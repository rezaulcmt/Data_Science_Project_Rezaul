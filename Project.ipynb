{
  "cells": [
    {
      "cell_type": "markdown",
      "metadata": {
        "id": "view-in-github",
        "colab_type": "text"
      },
      "source": [
        "<a href=\"https://colab.research.google.com/github/rezaulcmt/Data_Science_Project_Rezaul/blob/main/Project.ipynb\" target=\"_parent\"><img src=\"https://colab.research.google.com/assets/colab-badge.svg\" alt=\"Open In Colab\"/></a>"
      ]
    },
    {
      "cell_type": "code",
      "execution_count": 2,
      "metadata": {
        "id": "bpqdYA24qU46"
      },
      "outputs": [],
      "source": [
        "import torch    # Use Pytorch a deep learning library\n",
        "import torch.nn as nn   # Import neural network module from PyTorch\n",
        "import torch.optim as optim  # Import optimization algorithms from PyTorch\n",
        "import torchvision # Import torchvision for datasets and pre-trained models\n",
        "import torchvision.transforms as transforms # Import transforms for data preprocessing\n",
        "import matplotlib.pyplot as plt # for plotting graphs and images\n",
        "import numpy as np # for numerical operations\n",
        "from torchvision import models # Import models from torchvision, such as ResNet, VGG\n",
        "import random  # for generating random values"
      ]
    },
    {
      "cell_type": "markdown",
      "metadata": {
        "id": "pCDmDJ59kDe_"
      },
      "source": [
        "# CIFAR100 Restnet50"
      ]
    },
    {
      "cell_type": "markdown",
      "metadata": {
        "id": "yMEawNXgq3qh"
      },
      "source": [
        "Set random seeds for reproducibility"
      ]
    },
    {
      "cell_type": "code",
      "execution_count": 3,
      "metadata": {
        "id": "nIDF-UkDrFxu"
      },
      "outputs": [],
      "source": [
        "\"\"\"\n",
        "Set random seed for PyTorch to ensure reproducibility in CPU operations,\n",
        "for NumPy to ensure reproducibility in NumPy operations and\n",
        "for Python's built-in random module to ensure reproducibility.\n",
        "\"\"\"\n",
        "torch.manual_seed(0)\n",
        "np.random.seed(0)\n",
        "random.seed(0)\n",
        "if torch.cuda.is_available(): # Check Cuda-enabled GPU available\n",
        "    torch.cuda.manual_seed_all(0) # Set random seed for all cuda operations on all available GPUs\n",
        "    torch.backends.cudnn.deterministic = True # ensure deterministic results forcing PyTorch to use a fixed computation order.\n",
        "    torch.backends.cudnn.benchmark = False # Disable the CuDNN auto-tuner to prevent varying computation patterns for same input size."
      ]
    },
    {
      "cell_type": "markdown",
      "metadata": {
        "id": "UIhaMdfUrLm_"
      },
      "source": [
        "Device configuration"
      ]
    },
    {
      "cell_type": "code",
      "execution_count": 4,
      "metadata": {
        "id": "odFO8hfhrRE7"
      },
      "outputs": [],
      "source": [
        "# Assign cuda if GPU available otherwise cpu for computations\n",
        "device = 'cuda' if torch.cuda.is_available() else 'cpu'"
      ]
    },
    {
      "cell_type": "markdown",
      "metadata": {
        "id": "vi9wz7K_rYBM"
      },
      "source": [
        "Prepare CIFAR-100 data"
      ]
    },
    {
      "cell_type": "code",
      "execution_count": 5,
      "metadata": {
        "colab": {
          "base_uri": "https://localhost:8080/"
        },
        "id": "qqhxd5RXrckF",
        "outputId": "56e9be7f-7d86-43dc-bd0b-e00a89fadc30"
      },
      "outputs": [
        {
          "output_type": "stream",
          "name": "stdout",
          "text": [
            "Downloading https://www.cs.toronto.edu/~kriz/cifar-100-python.tar.gz to ./data/cifar-100-python.tar.gz\n"
          ]
        },
        {
          "output_type": "stream",
          "name": "stderr",
          "text": [
            "100%|██████████| 169M/169M [00:12<00:00, 13.2MB/s]\n"
          ]
        },
        {
          "output_type": "stream",
          "name": "stdout",
          "text": [
            "Extracting ./data/cifar-100-python.tar.gz to ./data\n",
            "Files already downloaded and verified\n"
          ]
        }
      ],
      "source": [
        "# Define series of transformations for the training dataset.\n",
        "\n",
        "transform_train = transforms.Compose([\n",
        "    transforms.Resize(224),  # Rescale to 224x224 to match ImageNet input size\n",
        "    transforms.ToTensor(), # Convert images to PyTorch tensors (normalized to [0, 1])\n",
        "    transforms.Normalize((0.5071, 0.4867, 0.4408), (0.2675, 0.2565, 0.2761)), # Normalize image with mean and std of CIFAR-100.\n",
        "])\n",
        "\n",
        "transform_test = transforms.Compose([  # for the test dataset\n",
        "    transforms.Resize(224),\n",
        "    transforms.ToTensor(),\n",
        "    transforms.Normalize((0.5071, 0.4867, 0.4408), (0.2675, 0.2565, 0.2761)),\n",
        "])\n",
        "\n",
        "#Load CIFAR-100 training dataset\n",
        "trainset = torchvision.datasets.CIFAR100(root='./data', train=True, download=True, transform=transform_train)\n",
        "trainloader = torch.utils.data.DataLoader(trainset, batch_size=100, shuffle=True, num_workers=2)\n",
        "\n",
        "testset = torchvision.datasets.CIFAR100(root='./data', train=False, download=True, transform=transform_test)\n",
        "testloader = torch.utils.data.DataLoader(testset, batch_size=100, shuffle=False, num_workers=2)"
      ]
    },
    {
      "cell_type": "markdown",
      "metadata": {
        "id": "3w8fiGRfr5Im"
      },
      "source": [
        "Load pretrained ResNet18 model and adjust for CIFAR-100"
      ]
    },
    {
      "cell_type": "code",
      "execution_count": 6,
      "metadata": {
        "colab": {
          "base_uri": "https://localhost:8080/"
        },
        "id": "RLiBXAXfr-XR",
        "outputId": "0d5f22c2-863b-435e-a409-acec40a54549"
      },
      "outputs": [
        {
          "output_type": "stream",
          "name": "stdout",
          "text": [
            "==> Loading pretrained ResNet18 model..\n"
          ]
        },
        {
          "output_type": "stream",
          "name": "stderr",
          "text": [
            "/usr/local/lib/python3.10/dist-packages/torchvision/models/_utils.py:208: UserWarning: The parameter 'pretrained' is deprecated since 0.13 and may be removed in the future, please use 'weights' instead.\n",
            "  warnings.warn(\n",
            "/usr/local/lib/python3.10/dist-packages/torchvision/models/_utils.py:223: UserWarning: Arguments other than a weight enum or `None` for 'weights' are deprecated since 0.13 and may be removed in the future. The current behavior is equivalent to passing `weights=ResNet18_Weights.IMAGENET1K_V1`. You can also use `weights=ResNet18_Weights.DEFAULT` to get the most up-to-date weights.\n",
            "  warnings.warn(msg)\n",
            "Downloading: \"https://download.pytorch.org/models/resnet18-f37072fd.pth\" to /root/.cache/torch/hub/checkpoints/resnet18-f37072fd.pth\n",
            "100%|██████████| 44.7M/44.7M [00:00<00:00, 193MB/s]\n"
          ]
        }
      ],
      "source": [
        "print('==> Loading pretrained ResNet18 model..')\n",
        "net = models.resnet18(pretrained=True)\n",
        "net.fc = nn.Linear(net.fc.in_features, 100)  # Adjust final layer for CIFAR-100 (100 classes)\n",
        "net = net.to(device)"
      ]
    },
    {
      "cell_type": "markdown",
      "metadata": {
        "id": "4OhE-dtQsOWT"
      },
      "source": [
        "Fine-tune the model on CIFAR-100"
      ]
    },
    {
      "cell_type": "code",
      "execution_count": 7,
      "metadata": {
        "id": "fOm3pT4ysX12"
      },
      "outputs": [],
      "source": [
        "\"\"\"\n",
        "Set Cross-Entropy Loss for classification and configure SGD optimizer with learning rate,\n",
        "momentum and weight decay for efficient training of neural network\n",
        "\"\"\"\n",
        "criterion = nn.CrossEntropyLoss()\n",
        "optimizer = optim.SGD(net.parameters(), lr=0.001, momentum=0.9, weight_decay=5e-4)"
      ]
    },
    {
      "cell_type": "markdown",
      "metadata": {
        "id": "QH61t_EIsge6"
      },
      "source": [
        "Fine-tuning loop"
      ]
    },
    {
      "cell_type": "code",
      "execution_count": 9,
      "metadata": {
        "colab": {
          "base_uri": "https://localhost:8080/"
        },
        "id": "5BlkIcSFskWr",
        "outputId": "bc966b97-6d3c-48ef-f2c4-37a7145bd71c"
      },
      "outputs": [
        {
          "output_type": "stream",
          "name": "stdout",
          "text": [
            "==> Starting fine-tuning on CIFAR-100..\n",
            "Epoch 1: Train Loss: 0.024 | Train Accuracy: 99.97%\n",
            "Epoch 2: Train Loss: 0.022 | Train Accuracy: 99.97%\n",
            "Epoch 3: Train Loss: 0.021 | Train Accuracy: 99.97%\n",
            "Epoch 4: Train Loss: 0.019 | Train Accuracy: 99.97%\n",
            "Epoch 5: Train Loss: 0.018 | Train Accuracy: 99.97%\n",
            "Epoch 6: Train Loss: 0.017 | Train Accuracy: 99.97%\n",
            "Epoch 7: Train Loss: 0.016 | Train Accuracy: 99.97%\n",
            "Epoch 8: Train Loss: 0.016 | Train Accuracy: 99.97%\n",
            "Epoch 9: Train Loss: 0.015 | Train Accuracy: 99.97%\n",
            "Epoch 10: Train Loss: 0.014 | Train Accuracy: 99.97%\n",
            "Epoch 11: Train Loss: 0.014 | Train Accuracy: 99.98%\n",
            "Epoch 12: Train Loss: 0.013 | Train Accuracy: 99.98%\n",
            "Epoch 13: Train Loss: 0.013 | Train Accuracy: 99.97%\n",
            "Epoch 14: Train Loss: 0.012 | Train Accuracy: 99.97%\n",
            "Epoch 15: Train Loss: 0.012 | Train Accuracy: 99.97%\n",
            "Epoch 16: Train Loss: 0.012 | Train Accuracy: 99.97%\n",
            "Epoch 17: Train Loss: 0.011 | Train Accuracy: 99.97%\n",
            "Epoch 18: Train Loss: 0.011 | Train Accuracy: 99.97%\n",
            "Epoch 19: Train Loss: 0.011 | Train Accuracy: 99.96%\n",
            "Epoch 20: Train Loss: 0.010 | Train Accuracy: 99.97%\n",
            "Epoch 21: Train Loss: 0.010 | Train Accuracy: 99.97%\n",
            "Epoch 22: Train Loss: 0.010 | Train Accuracy: 99.98%\n",
            "Epoch 23: Train Loss: 0.010 | Train Accuracy: 99.97%\n",
            "Epoch 24: Train Loss: 0.009 | Train Accuracy: 99.97%\n",
            "Epoch 25: Train Loss: 0.009 | Train Accuracy: 99.97%\n"
          ]
        }
      ],
      "source": [
        "print(\"==> Starting fine-tuning on CIFAR-100..\")\n",
        "for epoch in range(25):  # Adjust number of epochs as needed\n",
        "    net.train()\n",
        "    train_loss = 0\n",
        "    correct = 0\n",
        "    total = 0\n",
        "    for batch_idx, (inputs, targets) in enumerate(trainloader):\n",
        "        inputs, targets = inputs.to(device), targets.to(device)\n",
        "        optimizer.zero_grad()\n",
        "        outputs = net(inputs)\n",
        "        loss = criterion(outputs, targets)\n",
        "        loss.backward()\n",
        "        optimizer.step()\n",
        "\n",
        "        train_loss += loss.item()\n",
        "        _, predicted = outputs.max(1)\n",
        "        total += targets.size(0)\n",
        "        correct += predicted.eq(targets).sum().item()\n",
        "    # Print training loss and accuracy for the current epoch.\n",
        "    print(f\"Epoch {epoch+1}: Train Loss: {train_loss/len(trainloader):.3f} | Train Accuracy: {100.*correct/total:.2f}%\")"
      ]
    },
    {
      "cell_type": "markdown",
      "metadata": {
        "id": "hJsVT4GSsLSx"
      },
      "source": [
        "Define FGSM and PGD attack functions"
      ]
    },
    {
      "cell_type": "code",
      "execution_count": 10,
      "metadata": {
        "id": "LmFeGbrHsUPI"
      },
      "outputs": [],
      "source": [
        "def fgsm_attack(model, x, y, epsilon):\n",
        "    x_adv = x.clone().detach().requires_grad_(True).to(device)\n",
        "    output = model(x_adv)\n",
        "    loss = criterion(output, y)\n",
        "    model.zero_grad()\n",
        "    loss.backward()\n",
        "    x_adv = x_adv + epsilon * x_adv.grad.sign()\n",
        "    x_adv = torch.clamp(x_adv, 0, 1)\n",
        "    return x_adv\n",
        "\n",
        "def pgd_attack(model, x, y, alpha, epsilon, num_iter):\n",
        "    x_adv = x.clone().detach().requires_grad_(True).to(device)\n",
        "    for _ in range(num_iter):\n",
        "        output = model(x_adv)\n",
        "        loss = criterion(output, y)\n",
        "        model.zero_grad()\n",
        "        loss.backward()\n",
        "        x_adv = x_adv + alpha * x_adv.grad.sign()\n",
        "        eta = torch.clamp(x_adv - x, min=-epsilon, max=epsilon)\n",
        "        x_adv = torch.clamp(x + eta, 0, 1).detach_().requires_grad_(True)\n",
        "    return x_adv"
      ]
    },
    {
      "cell_type": "markdown",
      "metadata": {
        "id": "qo-8edumsZvB"
      },
      "source": [
        "Carlini-Wagner attack function"
      ]
    },
    {
      "cell_type": "code",
      "execution_count": 11,
      "metadata": {
        "id": "MMvbND49svAA"
      },
      "outputs": [],
      "source": [
        "def carlini_wagner_attack(model, images, labels, targeted=False, c=1e-4, kappa=0, num_iter=100, learning_rate=0.01):\n",
        "    images = images.clone().detach().to(device)\n",
        "    labels = labels.to(device)\n",
        "    adv_images = images.clone().detach()\n",
        "    adv_images.requires_grad = True\n",
        "    optimizer = optim.Adam([adv_images], lr=learning_rate)\n",
        "\n",
        "    for _ in range(num_iter):\n",
        "        outputs = model(adv_images)\n",
        "\n",
        "        if targeted:\n",
        "            target_class = labels\n",
        "            f_loss = torch.max((outputs - outputs.gather(1, target_class.view(-1, 1)).squeeze() + kappa).clamp(min=0))\n",
        "        else:\n",
        "            correct_class = outputs.gather(1, labels.view(-1, 1)).squeeze()\n",
        "            f_loss = torch.max((correct_class - outputs + kappa).clamp(min=0), 1).values.mean()\n",
        "\n",
        "        l2_loss = torch.norm((adv_images - images).view(images.size(0), -1), dim=1).mean()\n",
        "        loss = l2_loss + c * f_loss\n",
        "\n",
        "        optimizer.zero_grad()\n",
        "        loss.backward()\n",
        "        optimizer.step()\n",
        "\n",
        "        adv_images.data = torch.clamp(adv_images.data, 0, 1)\n",
        "\n",
        "    return adv_images"
      ]
    },
    {
      "cell_type": "markdown",
      "metadata": {
        "id": "PhDNilY4s1dF"
      },
      "source": [
        "Test function to evaluate model accuracy on clean or adversarial examples"
      ]
    },
    {
      "cell_type": "code",
      "execution_count": 12,
      "metadata": {
        "id": "BYu7kuUPs7T3"
      },
      "outputs": [],
      "source": [
        "def test_adversarial(model, attack=None, epsilon=None, alpha=None, num_iter=None):\n",
        "    correct = 0\n",
        "    total = 0\n",
        "    for inputs, targets in testloader:\n",
        "        inputs, targets = inputs.to(device), targets.to(device)\n",
        "\n",
        "        if attack == 'FGSM':\n",
        "            inputs = fgsm_attack(model, inputs, targets, epsilon)\n",
        "        elif attack == 'PGD':\n",
        "            inputs = pgd_attack(model, inputs, targets, alpha, epsilon, num_iter)\n",
        "        elif attack == 'CW':\n",
        "            inputs = carlini_wagner_attack(model, inputs, targets, targeted=False, num_iter=100, learning_rate=0.01)\n",
        "\n",
        "        outputs = model(inputs)\n",
        "        _, predicted = outputs.max(1)\n",
        "        total += targets.size(0)\n",
        "        correct += predicted.eq(targets).sum().item()\n",
        "\n",
        "    acc = 100 * correct / total\n",
        "    if attack:\n",
        "        print(f'Accuracy on {attack} adversarial examples: {acc:.2f}%')\n",
        "    else:\n",
        "        print(f'Accuracy on clean images: {acc:.2f}%')\n",
        "    return acc"
      ]
    },
    {
      "cell_type": "markdown",
      "metadata": {
        "id": "Vl26ioijtIFb"
      },
      "source": [
        "Calculate base accuracy on clean images"
      ]
    },
    {
      "cell_type": "code",
      "execution_count": 13,
      "metadata": {
        "colab": {
          "base_uri": "https://localhost:8080/"
        },
        "id": "LxJDMy21tI9N",
        "outputId": "e862910c-053a-4d7b-ee06-22bbafbc4778"
      },
      "outputs": [
        {
          "output_type": "stream",
          "name": "stdout",
          "text": [
            "==> Evaluating on clean images..\n",
            "Accuracy on clean images: 78.51%\n"
          ]
        }
      ],
      "source": [
        "print(\"==> Evaluating on clean images..\")\n",
        "acc_clean = test_adversarial(net)"
      ]
    },
    {
      "cell_type": "markdown",
      "metadata": {
        "id": "_1SooM1ItNQq"
      },
      "source": [
        "Parameters for FGSM, PGD, and C&W attacks"
      ]
    },
    {
      "cell_type": "code",
      "execution_count": 14,
      "metadata": {
        "id": "iLoWW7FttQ3Z"
      },
      "outputs": [],
      "source": [
        "epsilon_fgsm = 0.1\n",
        "epsilon_pgd = 2 / 255\n",
        "alpha = 2 / 255\n",
        "num_iter = 5"
      ]
    },
    {
      "cell_type": "markdown",
      "metadata": {
        "id": "a9F-1NYWtUce"
      },
      "source": [
        "Testing the pretrained ResNet model on FGSM, PGD, and C&W attacks"
      ]
    },
    {
      "cell_type": "code",
      "execution_count": 15,
      "metadata": {
        "colab": {
          "base_uri": "https://localhost:8080/"
        },
        "id": "UZi30UdktaJS",
        "outputId": "51f4e69b-3ade-4bea-8980-8b8435da59ca"
      },
      "outputs": [
        {
          "output_type": "stream",
          "name": "stdout",
          "text": [
            "Accuracy on FGSM adversarial examples: 24.97%\n",
            "Accuracy on PGD adversarial examples: 4.36%\n",
            "Accuracy on CW adversarial examples: 2.46%\n"
          ]
        }
      ],
      "source": [
        "acc_fgsm = test_adversarial(net, attack='FGSM', epsilon=epsilon_fgsm)\n",
        "acc_pgd = test_adversarial(net, attack='PGD', epsilon=epsilon_pgd, alpha=alpha, num_iter=num_iter)\n",
        "acc_cw = test_adversarial(net, attack='CW')"
      ]
    },
    {
      "cell_type": "markdown",
      "metadata": {
        "id": "ggwpphRvteDb"
      },
      "source": [
        "Plot results"
      ]
    },
    {
      "cell_type": "code",
      "execution_count": 16,
      "metadata": {
        "colab": {
          "base_uri": "https://localhost:8080/",
          "height": 601
        },
        "id": "80_su_lPtiDR",
        "outputId": "bb650d4e-1b24-463a-af1a-ca519d6047fa"
      },
      "outputs": [
        {
          "output_type": "display_data",
          "data": {
            "text/plain": [
              "<Figure size 1000x600 with 1 Axes>"
            ],
            "image/png": "[encoded data removed]"
          },
          "metadata": {}
        }
      ],
      "source": [
        "#attacks = ['Clean', 'FGSM', 'PGD', 'C&W']\n",
        "#accuracies = [acc_clean, acc_fgsm, acc_pgd, acc_cw]\n",
        "#plt.bar(attacks, accuracies)\n",
        "#plt.xlabel('Attack')\n",
        "#plt.ylabel('Accuracy (%)')\n",
        "#plt.title('Pretrained ResNet18 Accuracy on Clean and Adversarial Examples (CIFAR-100)')\n",
        "#plt.show()\n",
        "\n",
        "import matplotlib.pyplot as plt\n",
        "\n",
        "# Sample data for demonstration\n",
        "attacks = ['Clean', 'FGSM', 'PGD', 'C&W']\n",
        "accuracies = [acc_clean, acc_fgsm, acc_pgd, acc_cw]  # Replace with acc_clean, acc_fgsm, acc_pgd, acc_cw\n",
        "\n",
        "# Define color palette for bars\n",
        "colors = ['#2b8cbe', '#a6bddb', '#d73027', '#f46d43']\n",
        "\n",
        "# Enhance the plot\n",
        "plt.figure(figsize=(10, 6))  # Adjust size for better visibility\n",
        "bar_width = 0.2\n",
        "plt.bar(attacks, accuracies, color=colors, edgecolor='black', linewidth=1.5)\n",
        "\n",
        "# Add labels and title\n",
        "plt.xlabel('Attack', fontsize=14, labelpad=10)\n",
        "plt.ylabel('Accuracy (%)', fontsize=14, labelpad=10)\n",
        "plt.title('Pretrained ResNet18 Accuracy on Clean and Adversarial Examples (CIFAR-100)',\n",
        "          fontsize=16, pad=15)\n",
        "\n",
        "# Add grid lines\n",
        "plt.grid(axis='y', linestyle='--', alpha=0.7)\n",
        "\n",
        "# Customize the y-axis for better readability\n",
        "plt.yticks(fontsize=12)\n",
        "plt.xticks(fontsize=12)\n",
        "\n",
        "# Annotate bars with accuracy values\n",
        "for i, value in enumerate(accuracies):\n",
        "    plt.text(i, value + 1, f'{value}%', ha='center', fontsize=12)\n",
        "\n",
        "# Apply a modern style\n",
        "plt.style.use('classic')\n",
        "\n",
        "# Show the plot\n",
        "plt.tight_layout()  # Adjust layout for better fit\n",
        "plt.show()\n"
      ]
    },
    {
      "cell_type": "markdown",
      "metadata": {
        "id": "82rElNiWkptq"
      },
      "source": [
        "# CIFAR100 VGG19"
      ]
    },
    {
      "cell_type": "code",
      "execution_count": 17,
      "metadata": {
        "colab": {
          "base_uri": "https://localhost:8080/"
        },
        "id": "Zr7yttuwk6Ns",
        "outputId": "12b6f7af-2d55-4ca3-e8c8-4d124253f1c4"
      },
      "outputs": [
        {
          "output_type": "stream",
          "name": "stdout",
          "text": [
            "==> Loading pretrained VGG19 model..\n"
          ]
        },
        {
          "output_type": "stream",
          "name": "stderr",
          "text": [
            "/usr/local/lib/python3.10/dist-packages/torchvision/models/_utils.py:208: UserWarning: The parameter 'pretrained' is deprecated since 0.13 and may be removed in the future, please use 'weights' instead.\n",
            "  warnings.warn(\n",
            "/usr/local/lib/python3.10/dist-packages/torchvision/models/_utils.py:223: UserWarning: Arguments other than a weight enum or `None` for 'weights' are deprecated since 0.13 and may be removed in the future. The current behavior is equivalent to passing `weights=VGG19_Weights.IMAGENET1K_V1`. You can also use `weights=VGG19_Weights.DEFAULT` to get the most up-to-date weights.\n",
            "  warnings.warn(msg)\n",
            "Downloading: \"https://download.pytorch.org/models/vgg19-dcbb9e9d.pth\" to /root/.cache/torch/hub/checkpoints/vgg19-dcbb9e9d.pth\n",
            "100%|██████████| 548M/548M [00:03<00:00, 187MB/s]\n"
          ]
        }
      ],
      "source": [
        "# Load pretrained VGG19 model and adjust for CIFAR-100\n",
        "print('==> Loading pretrained VGG19 model..')\n",
        "net = models.vgg19(pretrained=True)\n",
        "net.classifier[6] = nn.Linear(net.classifier[6].in_features, 100)  # Adjust final layer for CIFAR-100\n",
        "net = net.to(device)"
      ]
    },
    {
      "cell_type": "code",
      "execution_count": null,
      "metadata": {
        "id": "dQTcPgUuHrgA"
      },
      "outputs": [],
      "source": [
        "# Fine-tune the model on CIFAR-100\n",
        "criterion = nn.CrossEntropyLoss()\n",
        "optimizer = optim.SGD(net.parameters(), lr=0.001, momentum=0.9, weight_decay=5e-4)"
      ]
    },
    {
      "cell_type": "code",
      "execution_count": null,
      "metadata": {
        "colab": {
          "base_uri": "https://localhost:8080/"
        },
        "id": "x98hbTrJHzCa",
        "outputId": "e6430914-1a25-4072-8c28-07119778314b"
      },
      "outputs": [
        {
          "name": "stdout",
          "output_type": "stream",
          "text": [
            "==> Starting fine-tuning on CIFAR-100..\n",
            "Epoch 1: Train Loss: 2.031 | Train Accuracy: 47.10%\n",
            "Epoch 2: Train Loss: 1.072 | Train Accuracy: 68.06%\n",
            "Epoch 3: Train Loss: 0.829 | Train Accuracy: 74.70%\n",
            "Epoch 4: Train Loss: 0.681 | Train Accuracy: 78.87%\n",
            "Epoch 5: Train Loss: 0.556 | Train Accuracy: 82.28%\n",
            "Epoch 6: Train Loss: 0.458 | Train Accuracy: 85.02%\n",
            "Epoch 7: Train Loss: 0.370 | Train Accuracy: 87.90%\n",
            "Epoch 8: Train Loss: 0.305 | Train Accuracy: 89.92%\n",
            "Epoch 9: Train Loss: 0.247 | Train Accuracy: 91.66%\n",
            "Epoch 10: Train Loss: 0.207 | Train Accuracy: 92.96%\n",
            "Epoch 11: Train Loss: 0.176 | Train Accuracy: 94.14%\n",
            "Epoch 12: Train Loss: 0.146 | Train Accuracy: 95.03%\n",
            "Epoch 13: Train Loss: 0.124 | Train Accuracy: 95.71%\n",
            "Epoch 14: Train Loss: 0.109 | Train Accuracy: 96.24%\n",
            "Epoch 15: Train Loss: 0.099 | Train Accuracy: 96.66%\n",
            "Epoch 16: Train Loss: 0.085 | Train Accuracy: 97.14%\n",
            "Epoch 17: Train Loss: 0.073 | Train Accuracy: 97.57%\n",
            "Epoch 18: Train Loss: 0.066 | Train Accuracy: 97.78%\n",
            "Epoch 19: Train Loss: 0.063 | Train Accuracy: 97.91%\n",
            "Epoch 20: Train Loss: 0.053 | Train Accuracy: 98.24%\n",
            "Epoch 21: Train Loss: 0.050 | Train Accuracy: 98.43%\n",
            "Epoch 22: Train Loss: 0.044 | Train Accuracy: 98.53%\n",
            "Epoch 23: Train Loss: 0.037 | Train Accuracy: 98.83%\n",
            "Epoch 24: Train Loss: 0.040 | Train Accuracy: 98.73%\n",
            "Epoch 25: Train Loss: 0.032 | Train Accuracy: 99.03%\n"
          ]
        }
      ],
      "source": [
        "print(\"==> Starting fine-tuning on CIFAR-100..\")\n",
        "for epoch in range(25):\n",
        "    net.train()\n",
        "    train_loss = 0\n",
        "    correct = 0\n",
        "    total = 0\n",
        "    for batch_idx, (inputs, targets) in enumerate(trainloader):\n",
        "        inputs, targets = inputs.to(device), targets.to(device)\n",
        "        optimizer.zero_grad()\n",
        "        outputs = net(inputs)\n",
        "        loss = criterion(outputs, targets)\n",
        "        loss.backward()\n",
        "        optimizer.step()\n",
        "\n",
        "        train_loss += loss.item()\n",
        "        _, predicted = outputs.max(1)\n",
        "        total += targets.size(0)\n",
        "        correct += predicted.eq(targets).sum().item()\n",
        "\n",
        "    print(f\"Epoch {epoch+1}: Train Loss: {train_loss/len(trainloader):.3f} | Train Accuracy: {100.*correct/total:.2f}%\")"
      ]
    },
    {
      "cell_type": "code",
      "execution_count": 18,
      "metadata": {
        "id": "Gua40g5BH5Zv"
      },
      "outputs": [],
      "source": [
        "# Define FGSM and PGD attack functions\n",
        "def fgsm_attack(model, x, y, epsilon):\n",
        "    x_adv = x.clone().detach().requires_grad_(True).to(device)\n",
        "    output = model(x_adv)\n",
        "    loss = criterion(output, y)\n",
        "    model.zero_grad()\n",
        "    loss.backward()\n",
        "    x_adv = x_adv + epsilon * x_adv.grad.sign()\n",
        "    x_adv = torch.clamp(x_adv, 0, 1)\n",
        "    return x_adv\n",
        "\n",
        "def pgd_attack(model, x, y, alpha, epsilon, num_iter):\n",
        "    x_adv = x.clone().detach().requires_grad_(True).to(device)\n",
        "    for _ in range(num_iter):\n",
        "        output = model(x_adv)\n",
        "        loss = criterion(output, y)\n",
        "        model.zero_grad()\n",
        "        loss.backward()\n",
        "        x_adv = x_adv + alpha * x_adv.grad.sign()\n",
        "        eta = torch.clamp(x_adv - x, min=-epsilon, max=epsilon)\n",
        "        x_adv = torch.clamp(x + eta, 0, 1).detach_().requires_grad_(True)\n",
        "    return x_adv"
      ]
    },
    {
      "cell_type": "code",
      "execution_count": 19,
      "metadata": {
        "id": "Vs2q9yRgH6wW"
      },
      "outputs": [],
      "source": [
        "# Carlini-Wagner attack function\n",
        "def carlini_wagner_attack(model, images, labels, targeted=False, c=1e-4, kappa=0, num_iter=100, learning_rate=0.01):\n",
        "    images = images.clone().detach().to(device)\n",
        "    labels = labels.to(device)\n",
        "    adv_images = images.clone().detach()\n",
        "    adv_images.requires_grad = True\n",
        "    optimizer = optim.Adam([adv_images], lr=learning_rate)\n",
        "\n",
        "    for _ in range(num_iter):\n",
        "        outputs = model(adv_images)\n",
        "\n",
        "        if targeted:\n",
        "            target_class = labels\n",
        "            f_loss = torch.max((outputs - outputs.gather(1, target_class.view(-1, 1)).squeeze() + kappa).clamp(min=0))\n",
        "        else:\n",
        "            correct_class = outputs.gather(1, labels.view(-1, 1)).squeeze()\n",
        "            f_loss = torch.max((correct_class - outputs + kappa).clamp(min=0), 1).values.mean()\n",
        "\n",
        "        l2_loss = torch.norm((adv_images - images).view(images.size(0), -1), dim=1).mean()\n",
        "        loss = l2_loss + c * f_loss\n",
        "\n",
        "        optimizer.zero_grad()\n",
        "        loss.backward()\n",
        "        optimizer.step()\n",
        "\n",
        "        adv_images.data = torch.clamp(adv_images.data, 0, 1)\n",
        "\n",
        "    return adv_images"
      ]
    },
    {
      "cell_type": "code",
      "execution_count": 20,
      "metadata": {
        "id": "FCtuG0XsH_-B"
      },
      "outputs": [],
      "source": [
        "# Test function to evaluate model accuracy on clean or adversarial examples\n",
        "def test_adversarial(model, attack=None, epsilon=None, alpha=None, num_iter=None):\n",
        "    correct = 0\n",
        "    total = 0\n",
        "    for inputs, targets in testloader:\n",
        "        inputs, targets = inputs.to(device), targets.to(device)\n",
        "\n",
        "        if attack == 'FGSM':\n",
        "            inputs = fgsm_attack(model, inputs, targets, epsilon)\n",
        "        elif attack == 'PGD':\n",
        "            inputs = pgd_attack(model, inputs, targets, alpha, epsilon, num_iter)\n",
        "        elif attack == 'CW':\n",
        "            inputs = carlini_wagner_attack(model, inputs, targets, targeted=False, num_iter=100, learning_rate=0.01)\n",
        "\n",
        "        outputs = model(inputs)\n",
        "        _, predicted = outputs.max(1)\n",
        "        total += targets.size(0)\n",
        "        correct += predicted.eq(targets).sum().item()\n",
        "\n",
        "    acc = 100 * correct / total\n",
        "    if attack:\n",
        "        print(f'Accuracy on {attack} adversarial examples: {acc:.2f}%')\n",
        "    else:\n",
        "        print(f'Accuracy on clean images: {acc:.2f}%')\n",
        "    return acc"
      ]
    },
    {
      "cell_type": "code",
      "execution_count": 24,
      "metadata": {
        "colab": {
          "base_uri": "https://localhost:8080/"
        },
        "id": "nToFCfrIIIbj",
        "outputId": "f4a50533-6fda-4654-bbbd-739b1afb0889"
      },
      "outputs": [
        {
          "output_type": "stream",
          "name": "stdout",
          "text": [
            "==> Evaluating on clean images..\n",
            "Accuracy on clean images: 0.94%\n"
          ]
        }
      ],
      "source": [
        "# Evaluate on clean images\n",
        "print(\"==> Evaluating on clean images..\")\n",
        "acc_clean = test_adversarial(net)"
      ]
    },
    {
      "cell_type": "code",
      "execution_count": 25,
      "metadata": {
        "id": "LaTGAxUeIOD1"
      },
      "outputs": [],
      "source": [
        "# Parameters for FGSM, PGD, and C&W attacks\n",
        "epsilon_fgsm = 0.1\n",
        "epsilon_pgd = 2 / 255\n",
        "alpha = 2 / 255\n",
        "num_iter = 5\n"
      ]
    },
    {
      "cell_type": "code",
      "execution_count": 26,
      "metadata": {
        "colab": {
          "base_uri": "https://localhost:8080/"
        },
        "id": "1qRnW9QVIRQY",
        "outputId": "b3db1426-a852-4346-ab58-f80ae90a3344"
      },
      "outputs": [
        {
          "metadata": {
            "tags": null
          },
          "name": "stdout",
          "output_type": "stream",
          "text": [
            "Accuracy on FGSM adversarial examples: 1.04%\n",
            "Accuracy on PGD adversarial examples: 0.23%\n",
            "Accuracy on CW adversarial examples: 0.80%\n"
          ]
        }
      ],
      "source": [
        "# Testing the pretrained VGG19 model on FGSM, PGD, and C&W attacks\n",
        "acc_fgsm = test_adversarial(net, attack='FGSM', epsilon=epsilon_fgsm)\n",
        "acc_pgd = test_adversarial(net, attack='PGD', epsilon=epsilon_pgd, alpha=alpha, num_iter=num_iter)\n",
        "acc_cw = test_adversarial(net, attack='CW')"
      ]
    },
    {
      "cell_type": "code",
      "execution_count": 27,
      "metadata": {
        "colab": {
          "base_uri": "https://localhost:8080/",
          "height": 470
        },
        "id": "zVLPyuEjISLA",
        "outputId": "c83729a6-37ac-4bc9-bd74-e6959f1a73ff"
      },
      "outputs": [
        {
          "output_type": "display_data",
          "data": {
            "text/plain": [
              "<Figure size 640x480 with 1 Axes>"
            ],
            "image/png": "[encoded data removed]"
          },
          "metadata": {}
        }
      ],
      "source": [
        "# Plot results\n",
        "attacks = ['Clean', 'FGSM', 'PGD', 'C&W']\n",
        "accuracies = [acc_clean, acc_fgsm, acc_pgd, acc_cw]\n",
        "plt.bar(attacks, accuracies)\n",
        "plt.xlabel('Attack')\n",
        "plt.ylabel('Accuracy (%)')\n",
        "plt.title('Pretrained VGG19 Accuracy on Clean and Adversarial Examples (CIFAR-100)')\n",
        "plt.show()"
      ]
    },
    {
      "cell_type": "markdown",
      "metadata": {
        "id": "MGF2Mr3ek7gu"
      },
      "source": [
        "# CIFAR100 MobileNetV2"
      ]
    },
    {
      "cell_type": "code",
      "execution_count": 28,
      "metadata": {
        "colab": {
          "base_uri": "https://localhost:8080/"
        },
        "id": "_h_WomHhlNlP",
        "outputId": "44b43e30-72aa-4e9d-c700-b2249ef2c651"
      },
      "outputs": [
        {
          "output_type": "stream",
          "name": "stderr",
          "text": [
            "/usr/local/lib/python3.10/dist-packages/torchvision/models/_utils.py:223: UserWarning: Arguments other than a weight enum or `None` for 'weights' are deprecated since 0.13 and may be removed in the future. The current behavior is equivalent to passing `weights=MobileNet_V2_Weights.IMAGENET1K_V1`. You can also use `weights=MobileNet_V2_Weights.DEFAULT` to get the most up-to-date weights.\n",
            "  warnings.warn(msg)\n",
            "Downloading: \"https://download.pytorch.org/models/mobilenet_v2-b0353104.pth\" to /root/.cache/torch/hub/checkpoints/mobilenet_v2-b0353104.pth\n"
          ]
        },
        {
          "output_type": "stream",
          "name": "stdout",
          "text": [
            "==> Loading pretrained MobileNetV2 model..\n"
          ]
        },
        {
          "output_type": "stream",
          "name": "stderr",
          "text": [
            "100%|██████████| 13.6M/13.6M [00:00<00:00, 212MB/s]\n"
          ]
        }
      ],
      "source": [
        "# Load pretrained MobileNetV2 model and adjust for CIFAR-100\n",
        "print('==> Loading pretrained MobileNetV2 model..')\n",
        "net = models.mobilenet_v2(pretrained=True)\n",
        "net.classifier[1] = nn.Linear(net.last_channel, 100)\n",
        "net = net.to(device)"
      ]
    },
    {
      "cell_type": "code",
      "execution_count": 29,
      "metadata": {
        "id": "zyseeV1J3uCj"
      },
      "outputs": [],
      "source": [
        "# Fine-tune the model on CIFAR-100\n",
        "criterion = nn.CrossEntropyLoss()\n",
        "optimizer = optim.SGD(net.parameters(), lr=0.001, momentum=0.9, weight_decay=5e-4)\n"
      ]
    },
    {
      "cell_type": "code",
      "execution_count": 30,
      "metadata": {
        "colab": {
          "base_uri": "https://localhost:8080/"
        },
        "id": "RgCKxAsM3y36",
        "outputId": "433216d1-7c46-414a-d651-1a1efb92bf6e"
      },
      "outputs": [
        {
          "output_type": "stream",
          "name": "stdout",
          "text": [
            "==> Starting fine-tuning on CIFAR-100..\n",
            "Epoch 1: Train Loss: 3.011 | Train Accuracy: 33.01%\n",
            "Epoch 2: Train Loss: 1.494 | Train Accuracy: 61.50%\n",
            "Epoch 3: Train Loss: 1.087 | Train Accuracy: 70.17%\n",
            "Epoch 4: Train Loss: 0.878 | Train Accuracy: 75.45%\n",
            "Epoch 5: Train Loss: 0.736 | Train Accuracy: 79.15%\n",
            "Epoch 6: Train Loss: 0.627 | Train Accuracy: 82.27%\n",
            "Epoch 7: Train Loss: 0.538 | Train Accuracy: 84.74%\n",
            "Epoch 8: Train Loss: 0.460 | Train Accuracy: 87.22%\n",
            "Epoch 9: Train Loss: 0.390 | Train Accuracy: 89.39%\n",
            "Epoch 10: Train Loss: 0.334 | Train Accuracy: 91.34%\n",
            "Epoch 11: Train Loss: 0.279 | Train Accuracy: 93.02%\n",
            "Epoch 12: Train Loss: 0.234 | Train Accuracy: 94.63%\n",
            "Epoch 13: Train Loss: 0.195 | Train Accuracy: 95.87%\n",
            "Epoch 14: Train Loss: 0.162 | Train Accuracy: 96.90%\n",
            "Epoch 15: Train Loss: 0.136 | Train Accuracy: 97.64%\n",
            "Epoch 16: Train Loss: 0.111 | Train Accuracy: 98.36%\n",
            "Epoch 17: Train Loss: 0.092 | Train Accuracy: 98.86%\n",
            "Epoch 18: Train Loss: 0.076 | Train Accuracy: 99.21%\n",
            "Epoch 19: Train Loss: 0.065 | Train Accuracy: 99.45%\n",
            "Epoch 20: Train Loss: 0.056 | Train Accuracy: 99.57%\n",
            "Epoch 21: Train Loss: 0.048 | Train Accuracy: 99.69%\n",
            "Epoch 22: Train Loss: 0.042 | Train Accuracy: 99.80%\n",
            "Epoch 23: Train Loss: 0.036 | Train Accuracy: 99.85%\n",
            "Epoch 24: Train Loss: 0.032 | Train Accuracy: 99.89%\n",
            "Epoch 25: Train Loss: 0.028 | Train Accuracy: 99.93%\n"
          ]
        }
      ],
      "source": [
        "print(\"==> Starting fine-tuning on CIFAR-100..\")\n",
        "for epoch in range(25):\n",
        "    net.train()\n",
        "    train_loss = 0\n",
        "    correct = 0\n",
        "    total = 0\n",
        "    for batch_idx, (inputs, targets) in enumerate(trainloader):\n",
        "        inputs, targets = inputs.to(device), targets.to(device)\n",
        "        optimizer.zero_grad()\n",
        "        outputs = net(inputs)\n",
        "        loss = criterion(outputs, targets)\n",
        "        loss.backward()\n",
        "        optimizer.step()\n",
        "\n",
        "        train_loss += loss.item()\n",
        "        _, predicted = outputs.max(1)\n",
        "        total += targets.size(0)\n",
        "        correct += predicted.eq(targets).sum().item()\n",
        "\n",
        "    print(f\"Epoch {epoch+1}: Train Loss: {train_loss/len(trainloader):.3f} | Train Accuracy: {100.*correct/total:.2f}%\")"
      ]
    },
    {
      "cell_type": "code",
      "execution_count": 31,
      "metadata": {
        "id": "BHBMqdff4LM9"
      },
      "outputs": [],
      "source": [
        "# Define FGSM and PGD attack functions\n",
        "def fgsm_attack(model, x, y, epsilon):\n",
        "    x_adv = x.clone().detach().requires_grad_(True).to(device)\n",
        "    output = model(x_adv)\n",
        "    loss = criterion(output, y)\n",
        "    model.zero_grad()\n",
        "    loss.backward()\n",
        "    x_adv = x_adv + epsilon * x_adv.grad.sign()\n",
        "    x_adv = torch.clamp(x_adv, 0, 1)\n",
        "    return x_adv\n",
        "\n",
        "def pgd_attack(model, x, y, alpha, epsilon, num_iter):\n",
        "    x_adv = x.clone().detach().requires_grad_(True).to(device)\n",
        "    for _ in range(num_iter):\n",
        "        output = model(x_adv)\n",
        "        loss = criterion(output, y)\n",
        "        model.zero_grad()\n",
        "        loss.backward()\n",
        "        x_adv = x_adv + alpha * x_adv.grad.sign()\n",
        "        eta = torch.clamp(x_adv - x, min=-epsilon, max=epsilon)\n",
        "        x_adv = torch.clamp(x + eta, 0, 1).detach_().requires_grad_(True)\n",
        "    return x_adv"
      ]
    },
    {
      "cell_type": "code",
      "execution_count": 32,
      "metadata": {
        "id": "V7H_wemP4dOM"
      },
      "outputs": [],
      "source": [
        "# Carlini-Wagner attack function\n",
        "def carlini_wagner_attack(model, images, labels, targeted=False, c=1e-4, kappa=0, num_iter=100, learning_rate=0.01):\n",
        "    images = images.clone().detach().to(device)\n",
        "    labels = labels.to(device)\n",
        "    adv_images = images.clone().detach()\n",
        "    adv_images.requires_grad = True\n",
        "    optimizer = optim.Adam([adv_images], lr=learning_rate)\n",
        "\n",
        "    for _ in range(num_iter):\n",
        "        outputs = model(adv_images)\n",
        "\n",
        "        if targeted:\n",
        "            target_class = labels\n",
        "            f_loss = torch.max((outputs - outputs.gather(1, target_class.view(-1, 1)).squeeze() + kappa).clamp(min=0))\n",
        "        else:\n",
        "            correct_class = outputs.gather(1, labels.view(-1, 1)).squeeze()\n",
        "            f_loss = torch.max((correct_class - outputs + kappa).clamp(min=0), 1).values.mean()\n",
        "\n",
        "        l2_loss = torch.norm((adv_images - images).view(images.size(0), -1), dim=1).mean()\n",
        "        loss = l2_loss + c * f_loss\n",
        "\n",
        "        optimizer.zero_grad()\n",
        "        loss.backward()\n",
        "        optimizer.step()\n",
        "\n",
        "        adv_images.data = torch.clamp(adv_images.data, 0, 1)\n",
        "\n",
        "    return adv_images"
      ]
    },
    {
      "cell_type": "code",
      "execution_count": 33,
      "metadata": {
        "id": "IyOcKZM04h4y"
      },
      "outputs": [],
      "source": [
        "# Test function to evaluate model accuracy on clean or adversarial examples\n",
        "def test_adversarial(model, attack=None, epsilon=None, alpha=None, num_iter=None):\n",
        "    correct = 0\n",
        "    total = 0\n",
        "    for inputs, targets in testloader:\n",
        "        inputs, targets = inputs.to(device), targets.to(device)\n",
        "\n",
        "        if attack == 'FGSM':\n",
        "            inputs = fgsm_attack(model, inputs, targets, epsilon)\n",
        "        elif attack == 'PGD':\n",
        "            inputs = pgd_attack(model, inputs, targets, alpha, epsilon, num_iter)\n",
        "        elif attack == 'CW':\n",
        "            inputs = carlini_wagner_attack(model, inputs, targets, targeted=False, num_iter=100, learning_rate=0.01)\n",
        "\n",
        "        outputs = model(inputs)\n",
        "        _, predicted = outputs.max(1)\n",
        "        total += targets.size(0)\n",
        "        correct += predicted.eq(targets).sum().item()\n",
        "\n",
        "    acc = 100 * correct / total\n",
        "    if attack:\n",
        "        print(f'Accuracy on {attack} adversarial examples: {acc:.2f}%')\n",
        "    else:\n",
        "        print(f'Accuracy on clean images: {acc:.2f}%')\n",
        "    return acc"
      ]
    },
    {
      "cell_type": "code",
      "execution_count": 34,
      "metadata": {
        "id": "TfwQ_dAX4l2h",
        "colab": {
          "base_uri": "https://localhost:8080/"
        },
        "outputId": "1beef81c-0b3b-4861-e9b5-140db16dfd4d"
      },
      "outputs": [
        {
          "output_type": "stream",
          "name": "stdout",
          "text": [
            "==> Evaluating on clean images..\n",
            "Accuracy on clean images: 76.84%\n"
          ]
        }
      ],
      "source": [
        "# Evaluate on clean images\n",
        "print(\"==> Evaluating on clean images..\")\n",
        "acc_clean = test_adversarial(net)\n",
        "\n"
      ]
    },
    {
      "cell_type": "code",
      "execution_count": 35,
      "metadata": {
        "id": "ZycawC2E4r-X"
      },
      "outputs": [],
      "source": [
        "# Parameters for FGSM, PGD, and C&W attacks\n",
        "epsilon_fgsm = 0.1\n",
        "epsilon_pgd = 2 / 255\n",
        "alpha = 2 / 255\n",
        "num_iter = 5\n",
        "\n"
      ]
    },
    {
      "cell_type": "code",
      "execution_count": null,
      "metadata": {
        "colab": {
          "background_save": true,
          "base_uri": "https://localhost:8080/"
        },
        "id": "45T8Iukl4uGA",
        "outputId": "53261990-3369-497c-a1c8-a43616921c32"
      },
      "outputs": [
        {
          "output_type": "stream",
          "name": "stdout",
          "text": [
            "Accuracy on FGSM adversarial examples: 29.43%\n",
            "Accuracy on PGD adversarial examples: 3.05%\n"
          ]
        }
      ],
      "source": [
        "# Testing the pretrained MobileNetV2 model on FGSM, PGD, and C&W attacks\n",
        "acc_fgsm = test_adversarial(net, attack='FGSM', epsilon=epsilon_fgsm)\n",
        "acc_pgd = test_adversarial(net, attack='PGD', epsilon=epsilon_pgd, alpha=alpha, num_iter=num_iter)\n",
        "acc_cw = test_adversarial(net, attack='CW')\n",
        "\n"
      ]
    },
    {
      "cell_type": "code",
      "execution_count": null,
      "metadata": {
        "id": "J5NE1hDX4vzd"
      },
      "outputs": [],
      "source": [
        "# Plot results\n",
        "attacks = ['Clean', 'FGSM', 'PGD', 'C&W']\n",
        "accuracies = [acc_clean, acc_fgsm, acc_pgd, acc_cw]\n",
        "plt.bar(attacks, accuracies)\n",
        "plt.xlabel('Attack')\n",
        "plt.ylabel('Accuracy (%)')\n",
        "plt.title('Pretrained MobileNetV2 Accuracy on Clean and Adversarial Examples (CIFAR-100)')\n",
        "plt.show()"
      ]
    },
    {
      "cell_type": "markdown",
      "metadata": {
        "id": "ZcwiYXLIlP9o"
      },
      "source": [
        "# SVHN Dataset Resnet50"
      ]
    },
    {
      "cell_type": "code",
      "execution_count": null,
      "metadata": {
        "id": "tP2ooLExlgA5"
      },
      "outputs": [],
      "source": [
        "# Prepare SVHN dataset\n",
        "from torchvision.datasets import SVHN\n",
        "\n",
        "transform_train = transforms.Compose([\n",
        "    transforms.Resize(224),  # Rescale to 224x224 to match ImageNet input size\n",
        "    transforms.ToTensor(),\n",
        "    transforms.Normalize((0.4377, 0.4438, 0.4728), (0.198, 0.201, 0.197)),  # SVHN mean and std\n",
        "])\n",
        "\n",
        "transform_test = transforms.Compose([\n",
        "    transforms.Resize(224),\n",
        "    transforms.ToTensor(),\n",
        "    transforms.Normalize((0.4377, 0.4438, 0.4728), (0.198, 0.201, 0.197)),  # SVHN mean and std\n",
        "])\n",
        "\n",
        "trainset = SVHN(root='./data', split='train', download=True, transform=transform_train)\n",
        "trainloader = torch.utils.data.DataLoader(trainset, batch_size=100, shuffle=True, num_workers=2)\n",
        "\n",
        "testset = SVHN(root='./data', split='test', download=True, transform=transform_test)\n",
        "testloader = torch.utils.data.DataLoader(testset, batch_size=100, shuffle=False, num_workers=2)\n",
        "\n"
      ]
    },
    {
      "cell_type": "code",
      "source": [
        "# Load pretrained ResNet50 model and adjust for SVHN\n",
        "print('==> Loading pretrained ResNet50 model..')\n",
        "net = models.resnet50(pretrained=True)\n",
        "net.fc = nn.Linear(net.fc.in_features, 10)  # Adjust final layer for SVHN (10 classes)\n",
        "net = net.to(device)\n",
        "\n"
      ],
      "metadata": {
        "id": "DulvXxaxKuJ8"
      },
      "execution_count": null,
      "outputs": []
    },
    {
      "cell_type": "code",
      "source": [
        "# Fine-tune the model on SVHN\n",
        "criterion = nn.CrossEntropyLoss()\n",
        "optimizer = optim.SGD(net.parameters(), lr=0.001, momentum=0.9, weight_decay=5e-4)\n",
        "\n"
      ],
      "metadata": {
        "id": "-h1Gd9kQK0EJ"
      },
      "execution_count": null,
      "outputs": []
    },
    {
      "cell_type": "code",
      "source": [
        "print(\"==> Starting fine-tuning on SVHN..\")\n",
        "for epoch in range(25):  # Adjust number of epochs as needed\n",
        "    net.train()\n",
        "    train_loss = 0\n",
        "    correct = 0\n",
        "    total = 0\n",
        "    for batch_idx, (inputs, targets) in enumerate(trainloader):\n",
        "        inputs, targets = inputs.to(device), targets.to(device)\n",
        "        optimizer.zero_grad()\n",
        "        outputs = net(inputs)\n",
        "        loss = criterion(outputs, targets)\n",
        "        loss.backward()\n",
        "        optimizer.step()\n",
        "\n",
        "        train_loss += loss.item()\n",
        "        _, predicted = outputs.max(1)\n",
        "        total += targets.size(0)\n",
        "        correct += predicted.eq(targets).sum().item()\n",
        "\n",
        "    print(f\"Epoch {epoch+1}: Train Loss: {train_loss/len(trainloader):.3f} | Train Accuracy: {100.*correct/total:.2f}%\")\n",
        "\n"
      ],
      "metadata": {
        "id": "Vyv6sA8xK6IF"
      },
      "execution_count": null,
      "outputs": []
    },
    {
      "cell_type": "code",
      "source": [
        "# Define FGSM and PGD attack functions\n",
        "def fgsm_attack(model, x, y, epsilon):\n",
        "    x_adv = x.clone().detach().requires_grad_(True).to(device)\n",
        "    output = model(x_adv)\n",
        "    loss = criterion(output, y)\n",
        "    model.zero_grad()\n",
        "    loss.backward()\n",
        "    x_adv = x_adv + epsilon * x_adv.grad.sign()\n",
        "    x_adv = torch.clamp(x_adv, 0, 1)\n",
        "    return x_adv\n",
        "\n",
        "def pgd_attack(model, x, y, alpha, epsilon, num_iter):\n",
        "    x_adv = x.clone().detach().requires_grad_(True).to(device)\n",
        "    for _ in range(num_iter):\n",
        "        output = model(x_adv)\n",
        "        loss = criterion(output, y)\n",
        "        model.zero_grad()\n",
        "        loss.backward()\n",
        "        x_adv = x_adv + alpha * x_adv.grad.sign()\n",
        "        eta = torch.clamp(x_adv - x, min=-epsilon, max=epsilon)\n",
        "        x_adv = torch.clamp(x + eta, 0, 1).detach_().requires_grad_(True)\n",
        "    return x_adv\n",
        "\n"
      ],
      "metadata": {
        "id": "PNDkidouK_DM"
      },
      "execution_count": null,
      "outputs": []
    },
    {
      "cell_type": "code",
      "source": [
        "# Carlini-Wagner attack function\n",
        "def carlini_wagner_attack(model, images, labels, targeted=False, c=1e-4, kappa=0, num_iter=100, learning_rate=0.01):\n",
        "    images = images.clone().detach().to(device)\n",
        "    labels = labels.to(device)\n",
        "    adv_images = images.clone().detach()\n",
        "    adv_images.requires_grad = True\n",
        "    optimizer = optim.Adam([adv_images], lr=learning_rate)\n",
        "\n",
        "    for _ in range(num_iter):\n",
        "        outputs = model(adv_images)\n",
        "\n",
        "        if targeted:\n",
        "            target_class = labels\n",
        "            f_loss = torch.max((outputs - outputs.gather(1, target_class.view(-1, 1)).squeeze() + kappa).clamp(min=0))\n",
        "        else:\n",
        "            correct_class = outputs.gather(1, labels.view(-1, 1)).squeeze()\n",
        "            f_loss = torch.max((correct_class - outputs + kappa).clamp(min=0), 1).values.mean()\n",
        "\n",
        "        l2_loss = torch.norm((adv_images - images).view(images.size(0), -1), dim=1).mean()\n",
        "        loss = l2_loss + c * f_loss\n",
        "\n",
        "        optimizer.zero_grad()\n",
        "        loss.backward()\n",
        "        optimizer.step()\n",
        "\n",
        "        adv_images.data = torch.clamp(adv_images.data, 0, 1)\n",
        "\n",
        "    return adv_images\n",
        "\n"
      ],
      "metadata": {
        "id": "UWbeegHELESA"
      },
      "execution_count": null,
      "outputs": []
    },
    {
      "cell_type": "code",
      "source": [
        "# Test function to evaluate model accuracy on clean or adversarial examples\n",
        "def test_adversarial(model, attack=None, epsilon=None, alpha=None, num_iter=None):\n",
        "    correct = 0\n",
        "    total = 0\n",
        "    for inputs, targets in testloader:\n",
        "        inputs, targets = inputs.to(device), targets.to(device)\n",
        "\n",
        "        if attack == 'FGSM':\n",
        "            inputs = fgsm_attack(model, inputs, targets, epsilon)\n",
        "        elif attack == 'PGD':\n",
        "            inputs = pgd_attack(model, inputs, targets, alpha, epsilon, num_iter)\n",
        "        elif attack == 'CW':\n",
        "            inputs = carlini_wagner_attack(model, inputs, targets, targeted=False, num_iter=100, learning_rate=0.01)\n",
        "\n",
        "        outputs = model(inputs)\n",
        "        _, predicted = outputs.max(1)\n",
        "        total += targets.size(0)\n",
        "        correct += predicted.eq(targets).sum().item()\n",
        "\n",
        "    acc = 100 * correct / total\n",
        "    if attack:\n",
        "        print(f'Accuracy on {attack} adversarial examples: {acc:.2f}%')\n",
        "    else:\n",
        "        print(f'Accuracy on clean images: {acc:.2f}%')\n",
        "    return acc\n",
        "\n"
      ],
      "metadata": {
        "id": "dVozM3CeLIyQ"
      },
      "execution_count": null,
      "outputs": []
    },
    {
      "cell_type": "code",
      "source": [
        "# Evaluate on clean images\n",
        "print(\"==> Evaluating on clean images..\")\n",
        "acc_clean = test_adversarial(net)\n",
        "\n"
      ],
      "metadata": {
        "id": "QeZZCP0dLL-C"
      },
      "execution_count": null,
      "outputs": []
    },
    {
      "cell_type": "code",
      "source": [
        "# Parameters for FGSM, PGD, and C&W attacks\n",
        "epsilon_fgsm = 0.1\n",
        "epsilon_pgd = 2 / 255\n",
        "alpha = 2 / 255\n",
        "num_iter = 5\n",
        "\n"
      ],
      "metadata": {
        "id": "70vsYwbbLOcQ"
      },
      "execution_count": null,
      "outputs": []
    },
    {
      "cell_type": "code",
      "source": [
        "# Testing the pretrained ResNet50 model on FGSM, PGD, and C&W attacks\n",
        "acc_fgsm = test_adversarial(net, attack='FGSM', epsilon=epsilon_fgsm)\n",
        "acc_pgd = test_adversarial(net, attack='PGD', epsilon=epsilon_pgd, alpha=alpha, num_iter=num_iter)\n",
        "acc_cw = test_adversarial(net, attack='CW')\n",
        "\n"
      ],
      "metadata": {
        "id": "uB_pL1DwLQPt"
      },
      "execution_count": null,
      "outputs": []
    },
    {
      "cell_type": "code",
      "source": [
        "# Plot results\n",
        "attacks = ['Clean', 'FGSM', 'PGD', 'C&W']\n",
        "accuracies = [acc_clean, acc_fgsm, acc_pgd, acc_cw]\n",
        "plt.bar(attacks, accuracies)\n",
        "plt.xlabel('Attack')\n",
        "plt.ylabel('Accuracy (%)')\n",
        "plt.title('Pretrained ResNet50 Accuracy on Clean and Adversarial Examples (SVHN)')\n",
        "plt.show()"
      ],
      "metadata": {
        "id": "GUFU1e2oLR54"
      },
      "execution_count": null,
      "outputs": []
    },
    {
      "cell_type": "markdown",
      "metadata": {
        "id": "R-xzd935lhlk"
      },
      "source": [
        "# SVHN Dataset VGG19"
      ]
    },
    {
      "cell_type": "code",
      "execution_count": null,
      "metadata": {
        "id": "bo6nb6eFlyWs"
      },
      "outputs": [],
      "source": [
        "# Load pretrained VGG19 model and adjust for SVHN\n",
        "print('==> Loading pretrained VGG19 model..')\n",
        "net = models.vgg19(pretrained=True)\n",
        "net.classifier[6] = nn.Linear(4096, 10)  # Adjust final layer for SVHN (10 classes)\n",
        "net = net.to(device)\n",
        "\n"
      ]
    },
    {
      "cell_type": "code",
      "source": [
        "# Fine-tune the model on SVHN\n",
        "criterion = nn.CrossEntropyLoss()\n",
        "optimizer = optim.SGD(net.parameters(), lr=0.001, momentum=0.9, weight_decay=5e-4)\n",
        "\n",
        "print(\"==> Starting fine-tuning on SVHN..\")\n",
        "for epoch in range(25):  # Adjust number of epochs as needed\n",
        "    net.train()\n",
        "    train_loss = 0\n",
        "    correct = 0\n",
        "    total = 0\n",
        "    for batch_idx, (inputs, targets) in enumerate(trainloader):\n",
        "        inputs, targets = inputs.to(device), targets.to(device)\n",
        "        optimizer.zero_grad()\n",
        "        outputs = net(inputs)\n",
        "        loss = criterion(outputs, targets)\n",
        "        loss.backward()\n",
        "        optimizer.step()\n",
        "\n",
        "        train_loss += loss.item()\n",
        "        _, predicted = outputs.max(1)\n",
        "        total += targets.size(0)\n",
        "        correct += predicted.eq(targets).sum().item()\n",
        "\n",
        "    print(f\"Epoch {epoch+1}: Train Loss: {train_loss/len(trainloader):.3f} | Train Accuracy: {100.*correct/total:.2f}%\")\n",
        "\n"
      ],
      "metadata": {
        "id": "GRMbWIoDLi1C"
      },
      "execution_count": null,
      "outputs": []
    },
    {
      "cell_type": "code",
      "source": [
        "# Define FGSM and PGD attack functions\n",
        "def fgsm_attack(model, x, y, epsilon):\n",
        "    x_adv = x.clone().detach().requires_grad_(True).to(device)\n",
        "    output = model(x_adv)\n",
        "    loss = criterion(output, y)\n",
        "    model.zero_grad()\n",
        "    loss.backward()\n",
        "    x_adv = x_adv + epsilon * x_adv.grad.sign()\n",
        "    x_adv = torch.clamp(x_adv, 0, 1)\n",
        "    return x_adv\n",
        "\n",
        "def pgd_attack(model, x, y, alpha, epsilon, num_iter):\n",
        "    x_adv = x.clone().detach().requires_grad_(True).to(device)\n",
        "    for _ in range(num_iter):\n",
        "        output = model(x_adv)\n",
        "        loss = criterion(output, y)\n",
        "        model.zero_grad()\n",
        "        loss.backward()\n",
        "        x_adv = x_adv + alpha * x_adv.grad.sign()\n",
        "        eta = torch.clamp(x_adv - x, min=-epsilon, max=epsilon)\n",
        "        x_adv = torch.clamp(x + eta, 0, 1).detach_().requires_grad_(True)\n",
        "    return x_adv\n",
        "\n"
      ],
      "metadata": {
        "id": "OoYY3_CmLpMG"
      },
      "execution_count": null,
      "outputs": []
    },
    {
      "cell_type": "code",
      "source": [
        "# Carlini-Wagner attack function\n",
        "def carlini_wagner_attack(model, images, labels, targeted=False, c=1e-4, kappa=0, num_iter=100, learning_rate=0.01):\n",
        "    images = images.clone().detach().to(device)\n",
        "    labels = labels.to(device)\n",
        "    adv_images = images.clone().detach()\n",
        "    adv_images.requires_grad = True\n",
        "    optimizer = optim.Adam([adv_images], lr=learning_rate)\n",
        "\n",
        "    for _ in range(num_iter):\n",
        "        outputs = model(adv_images)\n",
        "\n",
        "        if targeted:\n",
        "            target_class = labels\n",
        "            f_loss = torch.max((outputs - outputs.gather(1, target_class.view(-1, 1)).squeeze() + kappa).clamp(min=0))\n",
        "        else:\n",
        "            correct_class = outputs.gather(1, labels.view(-1, 1)).squeeze()\n",
        "            f_loss = torch.max((correct_class - outputs + kappa).clamp(min=0), 1).values.mean()\n",
        "\n",
        "        l2_loss = torch.norm((adv_images - images).view(images.size(0), -1), dim=1).mean()\n",
        "        loss = l2_loss + c * f_loss\n",
        "\n",
        "        optimizer.zero_grad()\n",
        "        loss.backward()\n",
        "        optimizer.step()\n",
        "\n",
        "        adv_images.data = torch.clamp(adv_images.data, 0, 1)\n",
        "\n",
        "    return adv_images\n",
        "\n"
      ],
      "metadata": {
        "id": "oSHAs4syLtkQ"
      },
      "execution_count": null,
      "outputs": []
    },
    {
      "cell_type": "code",
      "source": [
        "# Test function to evaluate model accuracy on clean or adversarial examples\n",
        "def test_adversarial(model, attack=None, epsilon=None, alpha=None, num_iter=None):\n",
        "    correct = 0\n",
        "    total = 0\n",
        "    for inputs, targets in testloader:\n",
        "        inputs, targets = inputs.to(device), targets.to(device)\n",
        "\n",
        "        if attack == 'FGSM':\n",
        "            inputs = fgsm_attack(model, inputs, targets, epsilon)\n",
        "        elif attack == 'PGD':\n",
        "            inputs = pgd_attack(model, inputs, targets, alpha, epsilon, num_iter)\n",
        "        elif attack == 'CW':\n",
        "            inputs = carlini_wagner_attack(model, inputs, targets, targeted=False, num_iter=100, learning_rate=0.01)\n",
        "\n",
        "        outputs = model(inputs)\n",
        "        _, predicted = outputs.max(1)\n",
        "        total += targets.size(0)\n",
        "        correct += predicted.eq(targets).sum().item()\n",
        "\n",
        "    acc = 100 * correct / total\n",
        "    if attack:\n",
        "        print(f'Accuracy on {attack} adversarial examples: {acc:.2f}%')\n",
        "    else:\n",
        "        print(f'Accuracy on clean images: {acc:.2f}%')\n",
        "    return acc\n",
        "\n",
        "\n"
      ],
      "metadata": {
        "id": "nZZ5zQJxLxIh"
      },
      "execution_count": null,
      "outputs": []
    },
    {
      "cell_type": "code",
      "source": [
        "# Evaluate on clean images\n",
        "print(\"==> Evaluating on clean images..\")\n",
        "acc_clean = test_adversarial(net)\n",
        "\n"
      ],
      "metadata": {
        "id": "xhKoEMkZL05k"
      },
      "execution_count": null,
      "outputs": []
    },
    {
      "cell_type": "code",
      "source": [
        "# Parameters for FGSM, PGD, and C&W attacks\n",
        "epsilon_fgsm = 0.1\n",
        "epsilon_pgd = 2 / 255\n",
        "alpha = 2 / 255\n",
        "num_iter = 5\n",
        "\n"
      ],
      "metadata": {
        "id": "dgnYTf9BL3L7"
      },
      "execution_count": null,
      "outputs": []
    },
    {
      "cell_type": "code",
      "source": [
        "# Testing the pretrained VGG19 model on FGSM, PGD, and C&W attacks\n",
        "acc_fgsm = test_adversarial(net, attack='FGSM', epsilon=epsilon_fgsm)\n",
        "acc_pgd = test_adversarial(net, attack='PGD', epsilon=epsilon_pgd, alpha=alpha, num_iter=num_iter)\n",
        "acc_cw = test_adversarial(net, attack='CW')\n",
        "\n"
      ],
      "metadata": {
        "id": "Wtrs2S5zL5GN"
      },
      "execution_count": null,
      "outputs": []
    },
    {
      "cell_type": "code",
      "source": [
        "# Plot results\n",
        "attacks = ['Clean', 'FGSM', 'PGD', 'C&W']\n",
        "accuracies = [acc_clean, acc_fgsm, acc_pgd, acc_cw]\n",
        "plt.bar(attacks, accuracies)\n",
        "plt.xlabel('Attack')\n",
        "plt.ylabel('Accuracy (%)')\n",
        "plt.title('Pretrained VGG19 Accuracy on Clean and Adversarial Examples (SVHN)')\n",
        "plt.show()"
      ],
      "metadata": {
        "id": "qtK_xdXWL7Dx"
      },
      "execution_count": null,
      "outputs": []
    },
    {
      "cell_type": "markdown",
      "metadata": {
        "id": "6OM0DuGIl9HI"
      },
      "source": [
        "# SVHN Dataset MobileNetV2"
      ]
    },
    {
      "cell_type": "code",
      "execution_count": null,
      "metadata": {
        "id": "Fskfwb-UmDWU"
      },
      "outputs": [],
      "source": [
        "# Load pretrained MobileNetV2 model and adjust for SVHN\n",
        "print('==> Loading pretrained MobileNetV2 model..')\n",
        "net = models.mobilenet_v2(pretrained=True)\n",
        "net.classifier[1] = nn.Linear(net.last_channel, 10)  # Adjust final layer for SVHN (10 classes)\n",
        "net = net.to(device)\n",
        "\n"
      ]
    },
    {
      "cell_type": "code",
      "source": [
        "# Fine-tune the model on SVHN\n",
        "criterion = nn.CrossEntropyLoss()\n",
        "optimizer = optim.SGD(net.parameters(), lr=0.001, momentum=0.9, weight_decay=5e-4)\n",
        "\n",
        "print(\"==> Starting fine-tuning on SVHN..\")\n",
        "for epoch in range(25):  # Adjust number of epochs as needed\n",
        "    net.train()\n",
        "    train_loss = 0\n",
        "    correct = 0\n",
        "    total = 0\n",
        "    for batch_idx, (inputs, targets) in enumerate(trainloader):\n",
        "        inputs, targets = inputs.to(device), targets.to(device)\n",
        "        optimizer.zero_grad()\n",
        "        outputs = net(inputs)\n",
        "        loss = criterion(outputs, targets)\n",
        "        loss.backward()\n",
        "        optimizer.step()\n",
        "\n",
        "        train_loss += loss.item()\n",
        "        _, predicted = outputs.max(1)\n",
        "        total += targets.size(0)\n",
        "        correct += predicted.eq(targets).sum().item()\n",
        "\n",
        "    print(f\"Epoch {epoch+1}: Train Loss: {train_loss/len(trainloader):.3f} | Train Accuracy: {100.*correct/total:.2f}%\")\n",
        "\n"
      ],
      "metadata": {
        "id": "8qzvCHfxMSkX"
      },
      "execution_count": null,
      "outputs": []
    },
    {
      "cell_type": "code",
      "source": [
        "# Define FGSM and PGD attack functions\n",
        "def fgsm_attack(model, x, y, epsilon):\n",
        "    x_adv = x.clone().detach().requires_grad_(True).to(device)\n",
        "    output = model(x_adv)\n",
        "    loss = criterion(output, y)\n",
        "    model.zero_grad()\n",
        "    loss.backward()\n",
        "    x_adv = x_adv + epsilon * x_adv.grad.sign()\n",
        "    x_adv = torch.clamp(x_adv, 0, 1)\n",
        "    return x_adv\n",
        "\n",
        "def pgd_attack(model, x, y, alpha, epsilon, num_iter):\n",
        "    x_adv = x.clone().detach().requires_grad_(True).to(device)\n",
        "    for _ in range(num_iter):\n",
        "        output = model(x_adv)\n",
        "        loss = criterion(output, y)\n",
        "        model.zero_grad()\n",
        "        loss.backward()\n",
        "        x_adv = x_adv + alpha * x_adv.grad.sign()\n",
        "        eta = torch.clamp(x_adv - x, min=-epsilon, max=epsilon)\n",
        "        x_adv = torch.clamp(x + eta, 0, 1).detach_().requires_grad_(True)\n",
        "    return x_adv\n",
        "\n"
      ],
      "metadata": {
        "id": "xQQjDav9MWb4"
      },
      "execution_count": null,
      "outputs": []
    },
    {
      "cell_type": "code",
      "source": [
        "# Carlini-Wagner attack function\n",
        "def carlini_wagner_attack(model, images, labels, targeted=False, c=1e-4, kappa=0, num_iter=100, learning_rate=0.01):\n",
        "    images = images.clone().detach().to(device)\n",
        "    labels = labels.to(device)\n",
        "    adv_images = images.clone().detach()\n",
        "    adv_images.requires_grad = True\n",
        "    optimizer = optim.Adam([adv_images], lr=learning_rate)\n",
        "\n",
        "    for _ in range(num_iter):\n",
        "        outputs = model(adv_images)\n",
        "\n",
        "        if targeted:\n",
        "            target_class = labels\n",
        "            f_loss = torch.max((outputs - outputs.gather(1, target_class.view(-1, 1)).squeeze() + kappa).clamp(min=0))\n",
        "        else:\n",
        "            correct_class = outputs.gather(1, labels.view(-1, 1)).squeeze()\n",
        "            f_loss = torch.max((correct_class - outputs + kappa).clamp(min=0), 1).values.mean()\n",
        "\n",
        "        l2_loss = torch.norm((adv_images - images).view(images.size(0), -1), dim=1).mean()\n",
        "        loss = l2_loss + c * f_loss\n",
        "\n",
        "        optimizer.zero_grad()\n",
        "        loss.backward()\n",
        "        optimizer.step()\n",
        "\n",
        "        adv_images.data = torch.clamp(adv_images.data, 0, 1)\n",
        "\n",
        "    return adv_images\n",
        "\n"
      ],
      "metadata": {
        "id": "vPYzivKEMbDZ"
      },
      "execution_count": null,
      "outputs": []
    },
    {
      "cell_type": "code",
      "source": [
        "# Test function to evaluate model accuracy on clean or adversarial examples\n",
        "def test_adversarial(model, attack=None, epsilon=None, alpha=None, num_iter=None):\n",
        "    correct = 0\n",
        "    total = 0\n",
        "    for inputs, targets in testloader:\n",
        "        inputs, targets = inputs.to(device), targets.to(device)\n",
        "\n",
        "        if attack == 'FGSM':\n",
        "            inputs = fgsm_attack(model, inputs, targets, epsilon)\n",
        "        elif attack == 'PGD':\n",
        "            inputs = pgd_attack(model, inputs, targets, alpha, epsilon, num_iter)\n",
        "        elif attack == 'CW':\n",
        "            inputs = carlini_wagner_attack(model, inputs, targets, targeted=False, num_iter=100, learning_rate=0.01)\n",
        "\n",
        "        outputs = model(inputs)\n",
        "        _, predicted = outputs.max(1)\n",
        "        total += targets.size(0)\n",
        "        correct += predicted.eq(targets).sum().item()\n",
        "\n",
        "    acc = 100 * correct / total\n",
        "    if attack:\n",
        "        print(f'Accuracy on {attack} adversarial examples: {acc:.2f}%')\n",
        "    else:\n",
        "        print(f'Accuracy on clean images: {acc:.2f}%')\n",
        "    return acc\n",
        "\n"
      ],
      "metadata": {
        "id": "OXpc-zNcMe1T"
      },
      "execution_count": null,
      "outputs": []
    },
    {
      "cell_type": "code",
      "source": [
        "# Evaluate on clean images\n",
        "print(\"==> Evaluating on clean images..\")\n",
        "acc_clean = test_adversarial(net)\n",
        "\n"
      ],
      "metadata": {
        "id": "NGmafMbRMi14"
      },
      "execution_count": null,
      "outputs": []
    },
    {
      "cell_type": "code",
      "source": [
        "# Parameters for FGSM, PGD, and C&W attacks\n",
        "epsilon_fgsm = 0.1\n",
        "epsilon_pgd = 2 / 255\n",
        "alpha = 2 / 255\n",
        "num_iter = 5\n",
        "\n"
      ],
      "metadata": {
        "id": "CAxRznGUMkey"
      },
      "execution_count": null,
      "outputs": []
    },
    {
      "cell_type": "code",
      "source": [
        "# Testing the pretrained MobileNetV2 model on FGSM, PGD, and C&W attacks\n",
        "acc_fgsm = test_adversarial(net, attack='FGSM', epsilon=epsilon_fgsm)\n",
        "acc_pgd = test_adversarial(net, attack='PGD', epsilon=epsilon_pgd, alpha=alpha, num_iter=num_iter)\n",
        "acc_cw = test_adversarial(net, attack='CW')\n",
        "\n"
      ],
      "metadata": {
        "id": "IKsOFO8sMmZI"
      },
      "execution_count": null,
      "outputs": []
    },
    {
      "cell_type": "code",
      "source": [
        "# Plot results\n",
        "attacks = ['Clean', 'FGSM', 'PGD', 'C&W']\n",
        "accuracies = [acc_clean, acc_fgsm, acc_pgd, acc_cw]\n",
        "plt.bar(attacks, accuracies)\n",
        "plt.xlabel('Attack')\n",
        "plt.ylabel('Accuracy (%)')\n",
        "plt.title('Pretrained MobileNetV2 Accuracy on Clean and Adversarial Examples (SVHN)')\n",
        "plt.show()"
      ],
      "metadata": {
        "id": "bo1jLYOhMoLq"
      },
      "execution_count": null,
      "outputs": []
    },
    {
      "cell_type": "markdown",
      "metadata": {
        "id": "q_RDOksHmOQr"
      },
      "source": [
        "# Diffensive Distilations Restnet50\n",
        "\n",
        "\n",
        "\n"
      ]
    },
    {
      "cell_type": "code",
      "execution_count": null,
      "metadata": {
        "id": "Xsd49iuCmRed"
      },
      "outputs": [],
      "source": [
        "# Prepare CIFAR-100 data\n",
        "transform_train = transforms.Compose([\n",
        "    transforms.Resize(224),  # Rescale to 224x224 to match ImageNet input size\n",
        "    transforms.ToTensor(),\n",
        "    transforms.Normalize((0.5071, 0.4867, 0.4408), (0.2675, 0.2565, 0.2761)),\n",
        "])\n",
        "\n",
        "transform_test = transforms.Compose([\n",
        "    transforms.Resize(224),\n",
        "    transforms.ToTensor(),\n",
        "    transforms.Normalize((0.5071, 0.4867, 0.4408), (0.2675, 0.2565, 0.2761)),\n",
        "])\n",
        "\n",
        "trainset = torchvision.datasets.CIFAR100(root='./data', train=True, download=True, transform=transform_train)\n",
        "trainloader = torch.utils.data.DataLoader(trainset, batch_size=100, shuffle=True, num_workers=2)\n",
        "\n",
        "testset = torchvision.datasets.CIFAR100(root='./data', train=False, download=True, transform=transform_test)\n",
        "testloader = torch.utils.data.DataLoader(testset, batch_size=100, shuffle=False, num_workers=2)\n",
        "\n"
      ]
    },
    {
      "cell_type": "code",
      "source": [
        "# Load pretrained ResNet50 model and adjust for CIFAR-100\n",
        "print('==> Loading pretrained ResNet50 model..')\n",
        "teacher_model = models.resnet50(pretrained=True)\n",
        "teacher_model.fc = nn.Linear(teacher_model.fc.in_features, 100)  # Adjust final layer for CIFAR-100\n",
        "teacher_model = teacher_model.to(device)\n",
        "\n"
      ],
      "metadata": {
        "id": "75rEjOXjNZfR"
      },
      "execution_count": null,
      "outputs": []
    },
    {
      "cell_type": "code",
      "source": [
        "# Train the teacher model (pretrained ResNet50)\n",
        "criterion = nn.CrossEntropyLoss()\n",
        "optimizer = optim.SGD(teacher_model.parameters(), lr=0.001, momentum=0.9, weight_decay=5e-4)\n",
        "\n",
        "print(\"==> Fine-tuning the teacher model..\")\n",
        "for epoch in range(5):  # Adjust epochs as needed\n",
        "    teacher_model.train()\n",
        "    for inputs, targets in trainloader:\n",
        "        inputs, targets = inputs.to(device), targets.to(device)\n",
        "        optimizer.zero_grad()\n",
        "        outputs = teacher_model(inputs)\n",
        "        loss = criterion(outputs, targets)\n",
        "        loss.backward()\n",
        "        optimizer.step()\n",
        "\n"
      ],
      "metadata": {
        "id": "U-oyTerlNdUC"
      },
      "execution_count": null,
      "outputs": []
    },
    {
      "cell_type": "code",
      "source": [
        "# Generate soft labels with temperature\n",
        "def generate_soft_labels(model, dataloader, temperature=10):\n",
        "    soft_labels = []\n",
        "    for inputs, targets in dataloader:\n",
        "        inputs, targets = inputs.to(device), targets.to(device)\n",
        "        with torch.no_grad():\n",
        "            outputs = model(inputs) / temperature\n",
        "            soft_labels.append((inputs, torch.softmax(outputs, dim=1)))\n",
        "    return soft_labels\n",
        "\n",
        "soft_train_labels = generate_soft_labels(teacher_model, trainloader)\n",
        "\n"
      ],
      "metadata": {
        "id": "V8XQeK_SNhos"
      },
      "execution_count": null,
      "outputs": []
    },
    {
      "cell_type": "code",
      "source": [
        "# Train the distilled (student) model\n",
        "student_model = models.resnet50(pretrained=True)\n",
        "student_model.fc = nn.Linear(student_model.fc.in_features, 100)  # Adjust final layer for CIFAR-100\n",
        "student_model = student_model.to(device)\n",
        "\n",
        "optimizer = optim.SGD(student_model.parameters(), lr=0.001, momentum=0.9, weight_decay=5e-4)\n",
        "\n",
        "def train_student(model, soft_labels, temperature=10):\n",
        "    model.train()\n",
        "    for epoch in range(5):\n",
        "        total_loss = 0\n",
        "        for inputs, soft_targets in soft_labels:\n",
        "            inputs, soft_targets = inputs.to(device), soft_targets.to(device)\n",
        "            optimizer.zero_grad()\n",
        "            outputs = model(inputs) / temperature\n",
        "            loss = nn.KLDivLoss()(torch.log_softmax(outputs, dim=1), soft_targets)\n",
        "            loss.backward()\n",
        "            optimizer.step()\n",
        "            total_loss += loss.item()\n",
        "        print(f\"Epoch {epoch+1}: Loss: {total_loss/len(soft_labels):.3f}\")\n",
        "\n",
        "print(\"==> Training the student model with defensive distillation..\")\n",
        "train_student(student_model, soft_train_labels)\n",
        "\n"
      ],
      "metadata": {
        "id": "LbTqFLkVNmpW"
      },
      "execution_count": null,
      "outputs": []
    },
    {
      "cell_type": "code",
      "source": [
        "# Evaluate the student model under adversarial attacks\n",
        "def test_adversarial_defense(model, attack=None, epsilon=None, alpha=None, num_iter=None):\n",
        "    correct = 0\n",
        "    total = 0\n",
        "    model.eval()\n",
        "    for inputs, targets in testloader:\n",
        "        inputs, targets = inputs.to(device), targets.to(device)\n",
        "\n",
        "        if attack == 'FGSM':\n",
        "            inputs = fgsm_attack(model, inputs, targets, epsilon)\n",
        "        elif attack == 'PGD':\n",
        "            inputs = pgd_attack(model, inputs, targets, alpha, epsilon, num_iter)\n",
        "        elif attack == 'CW':\n",
        "            inputs = carlini_wagner_attack(model, inputs, targets, targeted=False, num_iter=100, learning_rate=0.01)\n",
        "\n",
        "        outputs = model(inputs)\n",
        "        _, predicted = outputs.max(1)\n",
        "        total += targets.size(0)\n",
        "        correct += predicted.eq(targets).sum().item()\n",
        "\n",
        "    acc = 100 * correct / total\n",
        "    print(f'Accuracy on {attack if attack else \"clean\"} examples: {acc:.2f}%')\n",
        "    return acc\n",
        "\n",
        "\n"
      ],
      "metadata": {
        "id": "oQaR9XBwNsAK"
      },
      "execution_count": null,
      "outputs": []
    },
    {
      "cell_type": "code",
      "source": [
        "# FGSM, PGD, and CW attack functions remain the same as before\n",
        "# Parameters for FGSM, PGD, and CW attacks\n",
        "epsilon_fgsm = 0.1\n",
        "epsilon_pgd = 2 / 255\n",
        "alpha = 2 / 255\n",
        "num_iter = 5\n",
        "\n"
      ],
      "metadata": {
        "id": "Go0CgI1ZNxRE"
      },
      "execution_count": null,
      "outputs": []
    },
    {
      "cell_type": "code",
      "source": [
        "# Test the student model\n",
        "print(\"==> Evaluating the student model under adversarial attacks..\")\n",
        "acc_clean = test_adversarial_defense(student_model)\n",
        "acc_fgsm = test_adversarial_defense(student_model, attack='FGSM', epsilon=epsilon_fgsm)\n",
        "acc_pgd = test_adversarial_defense(student_model, attack='PGD', epsilon=epsilon_pgd, alpha=alpha, num_iter=num_iter)\n",
        "acc_cw = test_adversarial_defense(student_model, attack='CW')\n",
        "\n"
      ],
      "metadata": {
        "id": "GUTSpLl8NzhQ"
      },
      "execution_count": null,
      "outputs": []
    },
    {
      "cell_type": "code",
      "source": [
        "# Plot results\n",
        "attacks = ['Clean', 'FGSM', 'PGD', 'C&W']\n",
        "accuracies = [acc_clean, acc_fgsm, acc_pgd, acc_cw]\n",
        "plt.bar(attacks, accuracies)\n",
        "plt.xlabel('Attack')\n",
        "plt.ylabel('Accuracy (%)')\n",
        "plt.title('Defensive Distillation with ResNet50 (CIFAR-100)')\n",
        "plt.show()"
      ],
      "metadata": {
        "id": "4SnuF5xLN1iN"
      },
      "execution_count": null,
      "outputs": []
    },
    {
      "cell_type": "markdown",
      "source": [
        "# Diffensive Distilations VGG19"
      ],
      "metadata": {
        "id": "sg5A_POgOK82"
      }
    },
    {
      "cell_type": "code",
      "source": [
        "# Load pretrained VGG19 model and adjust for CIFAR-100\n",
        "print('==> Loading pretrained VGG19 model as the teacher model..')\n",
        "teacher_model = models.vgg19(pretrained=True)\n",
        "teacher_model.classifier[6] = nn.Linear(4096, 100)  # Adjust the final layer for CIFAR-100\n",
        "teacher_model = teacher_model.to(device)\n",
        "\n"
      ],
      "metadata": {
        "id": "wThsNCqUOqrE"
      },
      "execution_count": null,
      "outputs": []
    },
    {
      "cell_type": "code",
      "source": [
        "# Train the teacher model (pretrained VGG19)\n",
        "criterion = nn.CrossEntropyLoss()\n",
        "optimizer = optim.SGD(teacher_model.parameters(), lr=0.001, momentum=0.9, weight_decay=5e-4)\n",
        "\n",
        "print(\"==> Fine-tuning the teacher model..\")\n",
        "for epoch in range(5):  # Adjust epochs as needed\n",
        "    teacher_model.train()\n",
        "    for inputs, targets in trainloader:\n",
        "        inputs, targets = inputs.to(device), targets.to(device)\n",
        "        optimizer.zero_grad()\n",
        "        outputs = teacher_model(inputs)\n",
        "        loss = criterion(outputs, targets)\n",
        "        loss.backward()\n",
        "        optimizer.step()\n",
        "\n"
      ],
      "metadata": {
        "id": "cmQ2IdZJOv8K"
      },
      "execution_count": null,
      "outputs": []
    },
    {
      "cell_type": "code",
      "source": [
        "# Generate soft labels with temperature\n",
        "def generate_soft_labels(model, dataloader, temperature=10):\n",
        "    soft_labels = []\n",
        "    for inputs, targets in dataloader:\n",
        "        inputs, targets = inputs.to(device), targets.to(device)\n",
        "        with torch.no_grad():\n",
        "            outputs = model(inputs) / temperature\n",
        "            soft_labels.append((inputs, torch.softmax(outputs, dim=1)))\n",
        "    return soft_labels\n",
        "\n",
        "soft_train_labels = generate_soft_labels(teacher_model, trainloader)\n",
        "\n"
      ],
      "metadata": {
        "id": "A_D5kiJpO1FG"
      },
      "execution_count": null,
      "outputs": []
    },
    {
      "cell_type": "code",
      "source": [
        "# Train the distilled (student) model\n",
        "student_model = models.vgg19(pretrained=True)\n",
        "student_model.classifier[6] = nn.Linear(4096, 100)  # Adjust the final layer for CIFAR-100\n",
        "student_model = student_model.to(device)\n",
        "\n",
        "optimizer = optim.SGD(student_model.parameters(), lr=0.001, momentum=0.9, weight_decay=5e-4)\n",
        "\n",
        "def train_student(model, soft_labels, temperature=10):\n",
        "    model.train()\n",
        "    for epoch in range(5):\n",
        "        total_loss = 0\n",
        "        for inputs, soft_targets in soft_labels:\n",
        "            inputs, soft_targets = inputs.to(device), soft_targets.to(device)\n",
        "            optimizer.zero_grad()\n",
        "            outputs = model(inputs) / temperature\n",
        "            loss = nn.KLDivLoss()(torch.log_softmax(outputs, dim=1), soft_targets)\n",
        "            loss.backward()\n",
        "            optimizer.step()\n",
        "            total_loss += loss.item()\n",
        "        print(f\"Epoch {epoch+1}: Loss: {total_loss/len(soft_labels):.3f}\")\n",
        "\n",
        "print(\"==> Training the student model with defensive distillation..\")\n",
        "train_student(student_model, soft_train_labels)\n",
        "\n"
      ],
      "metadata": {
        "id": "fAuAtbh0O5VO"
      },
      "execution_count": null,
      "outputs": []
    },
    {
      "cell_type": "code",
      "source": [
        "# FGSM, PGD, and CW attack functions\n",
        "def fgsm_attack(model, x, y, epsilon):\n",
        "    x_adv = x.clone().detach().requires_grad_(True).to(device)\n",
        "    output = model(x_adv)\n",
        "    loss = criterion(output, y)\n",
        "    model.zero_grad()\n",
        "    loss.backward()\n",
        "    x_adv = x_adv + epsilon * x_adv.grad.sign()\n",
        "    x_adv = torch.clamp(x_adv, 0, 1)\n",
        "    return x_adv\n",
        "\n",
        "def pgd_attack(model, x, y, alpha, epsilon, num_iter):\n",
        "    x_adv = x.clone().detach().requires_grad_(True).to(device)\n",
        "    for _ in range(num_iter):\n",
        "        output = model(x_adv)\n",
        "        loss = criterion(output, y)\n",
        "        model.zero_grad()\n",
        "        loss.backward()\n",
        "        x_adv = x_adv + alpha * x_adv.grad.sign()\n",
        "        eta = torch.clamp(x_adv - x, min=-epsilon, max=epsilon)\n",
        "        x_adv = torch.clamp(x + eta, 0, 1).detach_().requires_grad_(True)\n",
        "    return x_adv\n",
        "\n"
      ],
      "metadata": {
        "id": "NaTQdislO92x"
      },
      "execution_count": null,
      "outputs": []
    },
    {
      "cell_type": "code",
      "source": [
        "def carlini_wagner_attack(model, images, labels, targeted=False, c=1e-4, kappa=0, num_iter=100, learning_rate=0.01):\n",
        "    images = images.clone().detach().to(device)\n",
        "    labels = labels.to(device)\n",
        "    adv_images = images.clone().detach()\n",
        "    adv_images.requires_grad = True\n",
        "    optimizer = optim.Adam([adv_images], lr=learning_rate)\n",
        "\n",
        "    for _ in range(num_iter):\n",
        "        outputs = model(adv_images)\n",
        "\n",
        "        if targeted:\n",
        "            target_class = labels\n",
        "            f_loss = torch.max((outputs - outputs.gather(1, target_class.view(-1, 1)).squeeze() + kappa).clamp(min=0))\n",
        "        else:\n",
        "            correct_class = outputs.gather(1, labels.view(-1, 1)).squeeze()\n",
        "            f_loss = torch.max((correct_class - outputs + kappa).clamp(min=0), 1).values.mean()\n",
        "\n",
        "        l2_loss = torch.norm((adv_images - images).view(images.size(0), -1), dim=1).mean()\n",
        "        loss = l2_loss + c * f_loss\n",
        "\n",
        "        optimizer.zero_grad()\n",
        "        loss.backward()\n",
        "        optimizer.step()\n",
        "\n",
        "        adv_images.data = torch.clamp(adv_images.data, 0, 1)\n",
        "\n",
        "    return adv_images\n",
        "\n"
      ],
      "metadata": {
        "id": "XMWU1gKUPGuq"
      },
      "execution_count": null,
      "outputs": []
    },
    {
      "cell_type": "code",
      "source": [
        "# Evaluate the student model under adversarial attacks\n",
        "def test_adversarial_defense(model, attack=None, epsilon=None, alpha=None, num_iter=None):\n",
        "    correct = 0\n",
        "    total = 0\n",
        "    model.eval()\n",
        "    for inputs, targets in testloader:\n",
        "        inputs, targets = inputs.to(device), targets.to(device)\n",
        "\n",
        "        if attack == 'FGSM':\n",
        "            inputs = fgsm_attack(model, inputs, targets, epsilon)\n",
        "        elif attack == 'PGD':\n",
        "            inputs = pgd_attack(model, inputs, targets, alpha, epsilon, num_iter)\n",
        "        elif attack == 'CW':\n",
        "            inputs = carlini_wagner_attack(model, inputs, targets, targeted=False, num_iter=100, learning_rate=0.01)\n",
        "\n",
        "        outputs = model(inputs)\n",
        "        _, predicted = outputs.max(1)\n",
        "        total += targets.size(0)\n",
        "        correct += predicted.eq(targets).sum().item()\n",
        "\n",
        "    acc = 100 * correct / total\n",
        "    print(f'Accuracy on {attack if attack else \"clean\"} examples: {acc:.2f}%')\n",
        "    return acc\n",
        "\n"
      ],
      "metadata": {
        "id": "5WAyh0WYPLYU"
      },
      "execution_count": null,
      "outputs": []
    },
    {
      "cell_type": "code",
      "source": [
        "# Parameters for FGSM, PGD, and CW attacks\n",
        "epsilon_fgsm = 0.1\n",
        "epsilon_pgd = 2 / 255\n",
        "alpha = 2 / 255\n",
        "num_iter = 5\n",
        "\n",
        "\n"
      ],
      "metadata": {
        "id": "UoyTAgDVPP46"
      },
      "execution_count": null,
      "outputs": []
    },
    {
      "cell_type": "code",
      "source": [
        "# Test the student model\n",
        "print(\"==> Evaluating the student model under adversarial attacks..\")\n",
        "acc_clean = test_adversarial_defense(student_model)\n",
        "acc_fgsm = test_adversarial_defense(student_model, attack='FGSM', epsilon=epsilon_fgsm)\n",
        "acc_pgd = test_adversarial_defense(student_model, attack='PGD', epsilon=epsilon_pgd, alpha=alpha, num_iter=num_iter)\n",
        "acc_cw = test_adversarial_defense(student_model, attack='CW')\n",
        "\n"
      ],
      "metadata": {
        "id": "zR_rb8-HPRcg"
      },
      "execution_count": null,
      "outputs": []
    },
    {
      "cell_type": "code",
      "source": [
        "# Plot results\n",
        "attacks = ['Clean', 'FGSM', 'PGD', 'C&W']\n",
        "accuracies = [acc_clean, acc_fgsm, acc_pgd, acc_cw]\n",
        "plt.bar(attacks, accuracies)\n",
        "plt.xlabel('Attack')\n",
        "plt.ylabel('Accuracy (%)')\n",
        "plt.title('Defensive Distillation with VGG19 (CIFAR-100)')\n",
        "plt.show()"
      ],
      "metadata": {
        "id": "zbKkOzARPTEm"
      },
      "execution_count": null,
      "outputs": []
    },
    {
      "cell_type": "markdown",
      "source": [
        "# Diffensive Distilations MobileNetv2"
      ],
      "metadata": {
        "id": "BGW7GnwROP4_"
      }
    },
    {
      "cell_type": "code",
      "source": [
        "# Load pretrained MobileNetV2 model and adjust for CIFAR-100\n",
        "print('==> Loading pretrained MobileNetV2 model as the teacher model..')\n",
        "teacher_model = models.mobilenet_v2(pretrained=True)\n",
        "teacher_model.classifier[1] = nn.Linear(teacher_model.last_channel, 100)  # Adjust the final layer for CIFAR-100\n",
        "teacher_model = teacher_model.to(device)\n",
        "\n"
      ],
      "metadata": {
        "id": "I_xrwqepRQHb"
      },
      "execution_count": null,
      "outputs": []
    },
    {
      "cell_type": "code",
      "source": [
        "# Train the teacher model (pretrained MobileNetV2)\n",
        "criterion = nn.CrossEntropyLoss()\n",
        "optimizer = optim.SGD(teacher_model.parameters(), lr=0.001, momentum=0.9, weight_decay=5e-4)\n",
        "\n",
        "print(\"==> Fine-tuning the teacher model..\")\n",
        "for epoch in range(5):  # Adjust epochs as needed\n",
        "    teacher_model.train()\n",
        "    for inputs, targets in trainloader:\n",
        "        inputs, targets = inputs.to(device), targets.to(device)\n",
        "        optimizer.zero_grad()\n",
        "        outputs = teacher_model(inputs)\n",
        "        loss = criterion(outputs, targets)\n",
        "        loss.backward()\n",
        "        optimizer.step()\n",
        "\n"
      ],
      "metadata": {
        "id": "oJDL21rcRUxV"
      },
      "execution_count": null,
      "outputs": []
    },
    {
      "cell_type": "code",
      "source": [
        "# Generate soft labels with temperature\n",
        "def generate_soft_labels(model, dataloader, temperature=10):\n",
        "    soft_labels = []\n",
        "    for inputs, targets in dataloader:\n",
        "        inputs, targets = inputs.to(device), targets.to(device)\n",
        "        with torch.no_grad():\n",
        "            outputs = model(inputs) / temperature\n",
        "            soft_labels.append((inputs, torch.softmax(outputs, dim=1)))\n",
        "    return soft_labels\n",
        "\n",
        "soft_train_labels = generate_soft_labels(teacher_model, trainloader)\n",
        "\n"
      ],
      "metadata": {
        "id": "rSBr0Bg6RZXX"
      },
      "execution_count": null,
      "outputs": []
    },
    {
      "cell_type": "code",
      "source": [
        "# Train the distilled (student) model\n",
        "student_model = models.mobilenet_v2(pretrained=True)\n",
        "student_model.classifier[1] = nn.Linear(student_model.last_channel, 100)  # Adjust the final layer for CIFAR-100\n",
        "student_model = student_model.to(device)\n",
        "\n",
        "optimizer = optim.SGD(student_model.parameters(), lr=0.001, momentum=0.9, weight_decay=5e-4)\n",
        "\n",
        "def train_student(model, soft_labels, temperature=10):\n",
        "    model.train()\n",
        "    for epoch in range(5):\n",
        "        total_loss = 0\n",
        "        for inputs, soft_targets in soft_labels:\n",
        "            inputs, soft_targets = inputs.to(device), soft_targets.to(device)\n",
        "            optimizer.zero_grad()\n",
        "            outputs = model(inputs) / temperature\n",
        "            loss = nn.KLDivLoss()(torch.log_softmax(outputs, dim=1), soft_targets)\n",
        "            loss.backward()\n",
        "            optimizer.step()\n",
        "            total_loss += loss.item()\n",
        "        print(f\"Epoch {epoch+1}: Loss: {total_loss/len(soft_labels):.3f}\")\n",
        "\n",
        "print(\"==> Training the student model with defensive distillation..\")\n",
        "train_student(student_model, soft_train_labels)\n",
        "\n"
      ],
      "metadata": {
        "id": "wJmL_tC6RejM"
      },
      "execution_count": null,
      "outputs": []
    },
    {
      "cell_type": "code",
      "source": [
        "# FGSM, PGD, and CW attack functions\n",
        "def fgsm_attack(model, x, y, epsilon):\n",
        "    x_adv = x.clone().detach().requires_grad_(True).to(device)\n",
        "    output = model(x_adv)\n",
        "    loss = criterion(output, y)\n",
        "    model.zero_grad()\n",
        "    loss.backward()\n",
        "    x_adv = x_adv + epsilon * x_adv.grad.sign()\n",
        "    x_adv = torch.clamp(x_adv, 0, 1)\n",
        "    return x_adv\n",
        "\n",
        "def pgd_attack(model, x, y, alpha, epsilon, num_iter):\n",
        "    x_adv = x.clone().detach().requires_grad_(True).to(device)\n",
        "    for _ in range(num_iter):\n",
        "        output = model(x_adv)\n",
        "        loss = criterion(output, y)\n",
        "        model.zero_grad()\n",
        "        loss.backward()\n",
        "        x_adv = x_adv + alpha * x_adv.grad.sign()\n",
        "        eta = torch.clamp(x_adv - x, min=-epsilon, max=epsilon)\n",
        "        x_adv = torch.clamp(x + eta, 0, 1).detach_().requires_grad_(True)\n",
        "    return x_adv\n",
        "\n"
      ],
      "metadata": {
        "id": "EwmiQjqjRjQ9"
      },
      "execution_count": null,
      "outputs": []
    },
    {
      "cell_type": "code",
      "source": [
        "def carlini_wagner_attack(model, images, labels, targeted=False, c=1e-4, kappa=0, num_iter=100, learning_rate=0.01):\n",
        "    images = images.clone().detach().to(device)\n",
        "    labels = labels.to(device)\n",
        "    adv_images = images.clone().detach()\n",
        "    adv_images.requires_grad = True\n",
        "    optimizer = optim.Adam([adv_images], lr=learning_rate)\n",
        "\n",
        "    for _ in range(num_iter):\n",
        "        outputs = model(adv_images)\n",
        "\n",
        "        if targeted:\n",
        "            target_class = labels\n",
        "            f_loss = torch.max((outputs - outputs.gather(1, target_class.view(-1, 1)).squeeze() + kappa).clamp(min=0))\n",
        "        else:\n",
        "            correct_class = outputs.gather(1, labels.view(-1, 1)).squeeze()\n",
        "            f_loss = torch.max((correct_class - outputs + kappa).clamp(min=0), 1).values.mean()\n",
        "\n",
        "        l2_loss = torch.norm((adv_images - images).view(images.size(0), -1), dim=1).mean()\n",
        "        loss = l2_loss + c * f_loss\n",
        "\n",
        "        optimizer.zero_grad()\n",
        "        loss.backward()\n",
        "        optimizer.step()\n",
        "\n",
        "        adv_images.data = torch.clamp(adv_images.data, 0, 1)\n",
        "\n",
        "    return adv_images\n",
        "\n"
      ],
      "metadata": {
        "id": "F8IlzElaRp9q"
      },
      "execution_count": null,
      "outputs": []
    },
    {
      "cell_type": "code",
      "source": [
        "# Evaluate the student model under adversarial attacks\n",
        "def test_adversarial_defense(model, attack=None, epsilon=None, alpha=None, num_iter=None):\n",
        "    correct = 0\n",
        "    total = 0\n",
        "    model.eval()\n",
        "    for inputs, targets in testloader:\n",
        "        inputs, targets = inputs.to(device), targets.to(device)\n",
        "\n",
        "        if attack == 'FGSM':\n",
        "            inputs = fgsm_attack(model, inputs, targets, epsilon)\n",
        "        elif attack == 'PGD':\n",
        "            inputs = pgd_attack(model, inputs, targets, alpha, epsilon, num_iter)\n",
        "        elif attack == 'CW':\n",
        "            inputs = carlini_wagner_attack(model, inputs, targets, targeted=False, num_iter=100, learning_rate=0.01)\n",
        "\n",
        "        outputs = model(inputs)\n",
        "        _, predicted = outputs.max(1)\n",
        "        total += targets.size(0)\n",
        "        correct += predicted.eq(targets).sum().item()\n",
        "\n",
        "    acc = 100 * correct / total\n",
        "    print(f'Accuracy on {attack if attack else \"clean\"} examples: {acc:.2f}%')\n",
        "    return acc\n",
        "\n"
      ],
      "metadata": {
        "id": "FR6cUQTVRvNw"
      },
      "execution_count": null,
      "outputs": []
    },
    {
      "cell_type": "code",
      "source": [
        "# Parameters for FGSM, PGD, and CW attacks\n",
        "epsilon_fgsm = 0.1\n",
        "epsilon_pgd = 2 / 255\n",
        "alpha = 2 / 255\n",
        "num_iter = 5\n",
        "\n",
        "\n"
      ],
      "metadata": {
        "id": "zXCEn32ERx-r"
      },
      "execution_count": null,
      "outputs": []
    },
    {
      "cell_type": "code",
      "source": [
        "# Test the student model\n",
        "print(\"==> Evaluating the student model under adversarial attacks..\")\n",
        "acc_clean = test_adversarial_defense(student_model)\n",
        "acc_fgsm = test_adversarial_defense(student_model, attack='FGSM', epsilon=epsilon_fgsm)\n",
        "acc_pgd = test_adversarial_defense(student_model, attack='PGD', epsilon=epsilon_pgd, alpha=alpha, num_iter=num_iter)\n",
        "acc_cw = test_adversarial_defense(student_model, attack='CW')\n",
        "\n"
      ],
      "metadata": {
        "id": "iYV18ri2R0A4"
      },
      "execution_count": null,
      "outputs": []
    },
    {
      "cell_type": "code",
      "source": [
        "# Plot results\n",
        "attacks = ['Clean', 'FGSM', 'PGD', 'C&W']\n",
        "accuracies = [acc_clean, acc_fgsm, acc_pgd, acc_cw]\n",
        "plt.bar(attacks, accuracies)\n",
        "plt.xlabel('Attack')\n",
        "plt.ylabel('Accuracy (%)')\n",
        "plt.title('Defensive Distillation with MobileNetV2 (CIFAR-100)')\n",
        "plt.show()"
      ],
      "metadata": {
        "id": "-isDnyJVR1iK"
      },
      "execution_count": null,
      "outputs": []
    }
  ],
  "metadata": {
    "accelerator": "GPU",
    "colab": {
      "gpuType": "A100",
      "machine_shape": "hm",
      "provenance": [],
      "collapsed_sections": [
        "ZcwiYXLIlP9o",
        "R-xzd935lhlk",
        "6OM0DuGIl9HI",
        "q_RDOksHmOQr",
        "sg5A_POgOK82",
        "BGW7GnwROP4_"
      ],
      "authorship_tag": "ABX9TyN0RvAKacV8wvBO5eGpaBAR",
      "include_colab_link": true
    },
    "kernelspec": {
      "display_name": "Python 3",
      "name": "python3"
    },
    "language_info": {
      "name": "python"
    }
  },
  "nbformat": 4,
  "nbformat_minor": 0
}