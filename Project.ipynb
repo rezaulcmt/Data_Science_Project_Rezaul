{
  "cells": [
    {
      "cell_type": "markdown",
      "metadata": {
        "id": "view-in-github",
        "colab_type": "text"
      },
      "source": [
        "<a href=\"https://colab.research.google.com/github/rezaulcmt/Data_Science_Project_Rezaul/blob/main/Project.ipynb\" target=\"_parent\"><img src=\"https://colab.research.google.com/assets/colab-badge.svg\" alt=\"Open In Colab\"/></a>"
      ]
    },
    {
      "cell_type": "code",
      "execution_count": null,
      "metadata": {
        "id": "bpqdYA24qU46"
      },
      "outputs": [],
      "source": [
        "import torch\n",
        "import torch.nn as nn\n",
        "import torch.optim as optim\n",
        "import torchvision\n",
        "import torchvision.transforms as transforms\n",
        "import matplotlib.pyplot as plt\n",
        "import numpy as np\n",
        "from torchvision import models\n",
        "import random"
      ]
    },
    {
      "cell_type": "markdown",
      "metadata": {
        "id": "yMEawNXgq3qh"
      },
      "source": [
        "Set random seeds for reproducibility"
      ]
    },
    {
      "cell_type": "code",
      "execution_count": null,
      "metadata": {
        "id": "nIDF-UkDrFxu"
      },
      "outputs": [],
      "source": [
        "torch.manual_seed(0)\n",
        "np.random.seed(0)\n",
        "random.seed(0)\n",
        "if torch.cuda.is_available():\n",
        "    torch.cuda.manual_seed_all(0)\n",
        "    torch.backends.cudnn.deterministic = True\n",
        "    torch.backends.cudnn.benchmark = False"
      ]
    },
    {
      "cell_type": "markdown",
      "metadata": {
        "id": "UIhaMdfUrLm_"
      },
      "source": [
        "Device configuration"
      ]
    },
    {
      "cell_type": "code",
      "execution_count": null,
      "metadata": {
        "id": "odFO8hfhrRE7"
      },
      "outputs": [],
      "source": [
        "device = 'cuda' if torch.cuda.is_available() else 'cpu'"
      ]
    },
    {
      "cell_type": "markdown",
      "metadata": {
        "id": "vi9wz7K_rYBM"
      },
      "source": [
        "Prepare CIFAR-100 data"
      ]
    },
    {
      "cell_type": "code",
      "execution_count": null,
      "metadata": {
        "colab": {
          "base_uri": "https://localhost:8080/"
        },
        "id": "qqhxd5RXrckF",
        "outputId": "0a94aa66-8ddb-4bcc-9876-42a7519306c8"
      },
      "outputs": [
        {
          "output_type": "stream",
          "name": "stdout",
          "text": [
            "Downloading https://www.cs.toronto.edu/~kriz/cifar-100-python.tar.gz to ./data/cifar-100-python.tar.gz\n"
          ]
        },
        {
          "output_type": "stream",
          "name": "stderr",
          "text": [
            "100%|██████████| 169M/169M [00:03<00:00, 51.5MB/s]\n"
          ]
        },
        {
          "output_type": "stream",
          "name": "stdout",
          "text": [
            "Extracting ./data/cifar-100-python.tar.gz to ./data\n",
            "Files already downloaded and verified\n"
          ]
        }
      ],
      "source": [
        "transform_train = transforms.Compose([\n",
        "    transforms.Resize(224),  # Rescale to 224x224 to match ImageNet input size\n",
        "    transforms.ToTensor(),\n",
        "    transforms.Normalize((0.5071, 0.4867, 0.4408), (0.2675, 0.2565, 0.2761)),\n",
        "])\n",
        "\n",
        "transform_test = transforms.Compose([\n",
        "    transforms.Resize(224),\n",
        "    transforms.ToTensor(),\n",
        "    transforms.Normalize((0.5071, 0.4867, 0.4408), (0.2675, 0.2565, 0.2761)),\n",
        "])\n",
        "\n",
        "trainset = torchvision.datasets.CIFAR100(root='./data', train=True, download=True, transform=transform_train)\n",
        "trainloader = torch.utils.data.DataLoader(trainset, batch_size=100, shuffle=True, num_workers=2)\n",
        "\n",
        "testset = torchvision.datasets.CIFAR100(root='./data', train=False, download=True, transform=transform_test)\n",
        "testloader = torch.utils.data.DataLoader(testset, batch_size=100, shuffle=False, num_workers=2)"
      ]
    },
    {
      "cell_type": "markdown",
      "metadata": {
        "id": "3w8fiGRfr5Im"
      },
      "source": [
        "Load pretrained ResNet18 model and adjust for CIFAR-100"
      ]
    },
    {
      "cell_type": "code",
      "execution_count": null,
      "metadata": {
        "colab": {
          "base_uri": "https://localhost:8080/"
        },
        "id": "RLiBXAXfr-XR",
        "outputId": "39a2c719-bcc0-4403-88a9-c9eb6fbb9ed7"
      },
      "outputs": [
        {
          "output_type": "stream",
          "name": "stdout",
          "text": [
            "==> Loading pretrained ResNet18 model..\n"
          ]
        },
        {
          "output_type": "stream",
          "name": "stderr",
          "text": [
            "/usr/local/lib/python3.10/dist-packages/torchvision/models/_utils.py:208: UserWarning: The parameter 'pretrained' is deprecated since 0.13 and may be removed in the future, please use 'weights' instead.\n",
            "  warnings.warn(\n",
            "/usr/local/lib/python3.10/dist-packages/torchvision/models/_utils.py:223: UserWarning: Arguments other than a weight enum or `None` for 'weights' are deprecated since 0.13 and may be removed in the future. The current behavior is equivalent to passing `weights=ResNet18_Weights.IMAGENET1K_V1`. You can also use `weights=ResNet18_Weights.DEFAULT` to get the most up-to-date weights.\n",
            "  warnings.warn(msg)\n",
            "Downloading: \"https://download.pytorch.org/models/resnet18-f37072fd.pth\" to /root/.cache/torch/hub/checkpoints/resnet18-f37072fd.pth\n",
            "100%|██████████| 44.7M/44.7M [00:00<00:00, 176MB/s]\n"
          ]
        }
      ],
      "source": [
        "print('==> Loading pretrained ResNet18 model..')\n",
        "net = models.resnet18(pretrained=True)\n",
        "net.fc = nn.Linear(net.fc.in_features, 100)  # Adjust final layer for CIFAR-100 (100 classes)\n",
        "net = net.to(device)"
      ]
    },
    {
      "cell_type": "markdown",
      "metadata": {
        "id": "4OhE-dtQsOWT"
      },
      "source": [
        "Fine-tune the model on CIFAR-100"
      ]
    },
    {
      "cell_type": "code",
      "execution_count": 15,
      "metadata": {
        "id": "fOm3pT4ysX12"
      },
      "outputs": [],
      "source": [
        "criterion = nn.CrossEntropyLoss()\n",
        "optimizer = optim.SGD(net.parameters(), lr=0.005, momentum=0.9, weight_decay=5e-4)"
      ]
    },
    {
      "cell_type": "markdown",
      "metadata": {
        "id": "QH61t_EIsge6"
      },
      "source": [
        "Fine-tuning loop"
      ]
    },
    {
      "cell_type": "code",
      "execution_count": 16,
      "metadata": {
        "colab": {
          "base_uri": "https://localhost:8080/"
        },
        "id": "5BlkIcSFskWr",
        "outputId": "483c304a-3a50-4dac-fa79-6f33038c3fa9"
      },
      "outputs": [
        {
          "output_type": "stream",
          "name": "stdout",
          "text": [
            "==> Starting fine-tuning on CIFAR-100..\n",
            "Epoch 1: Train Loss: 0.672 | Train Accuracy: 80.18%\n",
            "Epoch 2: Train Loss: 0.407 | Train Accuracy: 88.21%\n",
            "Epoch 3: Train Loss: 0.226 | Train Accuracy: 94.25%\n",
            "Epoch 4: Train Loss: 0.114 | Train Accuracy: 97.85%\n",
            "Epoch 5: Train Loss: 0.055 | Train Accuracy: 99.42%\n"
          ]
        }
      ],
      "source": [
        "print(\"==> Starting fine-tuning on CIFAR-100..\")\n",
        "for epoch in range(5):  # Adjust number of epochs as needed\n",
        "    net.train()\n",
        "    train_loss = 0\n",
        "    correct = 0\n",
        "    total = 0\n",
        "    for batch_idx, (inputs, targets) in enumerate(trainloader):\n",
        "        inputs, targets = inputs.to(device), targets.to(device)\n",
        "        optimizer.zero_grad()\n",
        "        outputs = net(inputs)\n",
        "        loss = criterion(outputs, targets)\n",
        "        loss.backward()\n",
        "        optimizer.step()\n",
        "\n",
        "        train_loss += loss.item()\n",
        "        _, predicted = outputs.max(1)\n",
        "        total += targets.size(0)\n",
        "        correct += predicted.eq(targets).sum().item()\n",
        "\n",
        "    print(f\"Epoch {epoch+1}: Train Loss: {train_loss/len(trainloader):.3f} | Train Accuracy: {100.*correct/total:.2f}%\")"
      ]
    },
    {
      "cell_type": "markdown",
      "metadata": {
        "id": "hJsVT4GSsLSx"
      },
      "source": [
        "Define FGSM and PGD attack functions"
      ]
    },
    {
      "cell_type": "code",
      "execution_count": 17,
      "metadata": {
        "id": "LmFeGbrHsUPI"
      },
      "outputs": [],
      "source": [
        "def fgsm_attack(model, x, y, epsilon):\n",
        "    x_adv = x.clone().detach().requires_grad_(True).to(device)\n",
        "    output = model(x_adv)\n",
        "    loss = criterion(output, y)\n",
        "    model.zero_grad()\n",
        "    loss.backward()\n",
        "    x_adv = x_adv + epsilon * x_adv.grad.sign()\n",
        "    x_adv = torch.clamp(x_adv, 0, 1)\n",
        "    return x_adv\n",
        "\n",
        "def pgd_attack(model, x, y, alpha, epsilon, num_iter):\n",
        "    x_adv = x.clone().detach().requires_grad_(True).to(device)\n",
        "    for _ in range(num_iter):\n",
        "        output = model(x_adv)\n",
        "        loss = criterion(output, y)\n",
        "        model.zero_grad()\n",
        "        loss.backward()\n",
        "        x_adv = x_adv + alpha * x_adv.grad.sign()\n",
        "        eta = torch.clamp(x_adv - x, min=-epsilon, max=epsilon)\n",
        "        x_adv = torch.clamp(x + eta, 0, 1).detach_().requires_grad_(True)\n",
        "    return x_adv"
      ]
    },
    {
      "cell_type": "markdown",
      "metadata": {
        "id": "qo-8edumsZvB"
      },
      "source": [
        "Carlini-Wagner attack function"
      ]
    },
    {
      "cell_type": "code",
      "execution_count": 18,
      "metadata": {
        "id": "MMvbND49svAA"
      },
      "outputs": [],
      "source": [
        "def carlini_wagner_attack(model, images, labels, targeted=False, c=1e-4, kappa=0, num_iter=100, learning_rate=0.01):\n",
        "    images = images.clone().detach().to(device)\n",
        "    labels = labels.to(device)\n",
        "    adv_images = images.clone().detach()\n",
        "    adv_images.requires_grad = True\n",
        "    optimizer = optim.Adam([adv_images], lr=learning_rate)\n",
        "\n",
        "    for _ in range(num_iter):\n",
        "        outputs = model(adv_images)\n",
        "\n",
        "        if targeted:\n",
        "            target_class = labels\n",
        "            f_loss = torch.max((outputs - outputs.gather(1, target_class.view(-1, 1)).squeeze() + kappa).clamp(min=0))\n",
        "        else:\n",
        "            correct_class = outputs.gather(1, labels.view(-1, 1)).squeeze()\n",
        "            f_loss = torch.max((correct_class - outputs + kappa).clamp(min=0), 1).values.mean()\n",
        "\n",
        "        l2_loss = torch.norm((adv_images - images).view(images.size(0), -1), dim=1).mean()\n",
        "        loss = l2_loss + c * f_loss\n",
        "\n",
        "        optimizer.zero_grad()\n",
        "        loss.backward()\n",
        "        optimizer.step()\n",
        "\n",
        "        adv_images.data = torch.clamp(adv_images.data, 0, 1)\n",
        "\n",
        "    return adv_images"
      ]
    },
    {
      "cell_type": "markdown",
      "metadata": {
        "id": "PhDNilY4s1dF"
      },
      "source": [
        "Test function to evaluate model accuracy on clean or adversarial examples"
      ]
    },
    {
      "cell_type": "code",
      "execution_count": 19,
      "metadata": {
        "id": "BYu7kuUPs7T3"
      },
      "outputs": [],
      "source": [
        "def test_adversarial(model, attack=None, epsilon=None, alpha=None, num_iter=None):\n",
        "    correct = 0\n",
        "    total = 0\n",
        "    for inputs, targets in testloader:\n",
        "        inputs, targets = inputs.to(device), targets.to(device)\n",
        "\n",
        "        if attack == 'FGSM':\n",
        "            inputs = fgsm_attack(model, inputs, targets, epsilon)\n",
        "        elif attack == 'PGD':\n",
        "            inputs = pgd_attack(model, inputs, targets, alpha, epsilon, num_iter)\n",
        "        elif attack == 'CW':\n",
        "            inputs = carlini_wagner_attack(model, inputs, targets, targeted=False, num_iter=100, learning_rate=0.01)\n",
        "\n",
        "        outputs = model(inputs)\n",
        "        _, predicted = outputs.max(1)\n",
        "        total += targets.size(0)\n",
        "        correct += predicted.eq(targets).sum().item()\n",
        "\n",
        "    acc = 100 * correct / total\n",
        "    if attack:\n",
        "        print(f'Accuracy on {attack} adversarial examples: {acc:.2f}%')\n",
        "    else:\n",
        "        print(f'Accuracy on clean images: {acc:.2f}%')\n",
        "    return acc"
      ]
    },
    {
      "cell_type": "markdown",
      "metadata": {
        "id": "Vl26ioijtIFb"
      },
      "source": [
        "Calculate base accuracy on clean images"
      ]
    },
    {
      "cell_type": "code",
      "execution_count": 20,
      "metadata": {
        "colab": {
          "base_uri": "https://localhost:8080/"
        },
        "id": "LxJDMy21tI9N",
        "outputId": "e12fd372-8128-4370-a6bd-8eb5d560394e"
      },
      "outputs": [
        {
          "output_type": "stream",
          "name": "stdout",
          "text": [
            "==> Evaluating on clean images..\n",
            "Accuracy on clean images: 80.28%\n"
          ]
        }
      ],
      "source": [
        "print(\"==> Evaluating on clean images..\")\n",
        "acc_clean = test_adversarial(net)"
      ]
    },
    {
      "cell_type": "markdown",
      "metadata": {
        "id": "_1SooM1ItNQq"
      },
      "source": [
        "Parameters for FGSM, PGD, and C&W attacks"
      ]
    },
    {
      "cell_type": "code",
      "execution_count": 21,
      "metadata": {
        "id": "iLoWW7FttQ3Z"
      },
      "outputs": [],
      "source": [
        "epsilon_fgsm = 0.1\n",
        "epsilon_pgd = 2 / 255\n",
        "alpha = 2 / 255\n",
        "num_iter = 5"
      ]
    },
    {
      "cell_type": "markdown",
      "metadata": {
        "id": "a9F-1NYWtUce"
      },
      "source": [
        "Testing the pretrained ResNet model on FGSM, PGD, and C&W attacks"
      ]
    },
    {
      "cell_type": "code",
      "execution_count": 23,
      "metadata": {
        "colab": {
          "base_uri": "https://localhost:8080/"
        },
        "id": "UZi30UdktaJS",
        "outputId": "86b9fda9-88e6-4bfd-9f12-68fff0cc36fd"
      },
      "outputs": [
        {
          "output_type": "stream",
          "name": "stdout",
          "text": [
            "Accuracy on FGSM adversarial examples: 25.95%\n",
            "Accuracy on PGD adversarial examples: 9.00%\n",
            "Accuracy on CW adversarial examples: 24.31%\n"
          ]
        }
      ],
      "source": [
        "acc_fgsm = test_adversarial(net, attack='FGSM', epsilon=epsilon_fgsm)\n",
        "acc_pgd = test_adversarial(net, attack='PGD', epsilon=epsilon_pgd, alpha=alpha, num_iter=num_iter)\n",
        "acc_cw = test_adversarial(net, attack='CW')"
      ]
    },
    {
      "cell_type": "markdown",
      "metadata": {
        "id": "ggwpphRvteDb"
      },
      "source": [
        "Plot results"
      ]
    },
    {
      "cell_type": "code",
      "execution_count": 24,
      "metadata": {
        "id": "80_su_lPtiDR",
        "colab": {
          "base_uri": "https://localhost:8080/",
          "height": 472
        },
        "outputId": "e36591bb-73be-492a-e9c6-56ea6f3cb061"
      },
      "outputs": [
        {
          "output_type": "display_data",
          "data": {
            "text/plain": [
              "<Figure size 640x480 with 1 Axes>"
            ],
            "image/png": "[encoded data removed]"
          },
          "metadata": {}
        }
      ],
      "source": [
        "attacks = ['Clean', 'FGSM', 'PGD', 'C&W']\n",
        "accuracies = [acc_clean, acc_fgsm, acc_pgd, acc_cw]\n",
        "plt.bar(attacks, accuracies)\n",
        "plt.xlabel('Attack')\n",
        "plt.ylabel('Accuracy (%)')\n",
        "plt.title('Pretrained ResNet18 Accuracy on Clean and Adversarial Examples (CIFAR-100)')\n",
        "plt.show()"
      ]
    }
  ],
  "metadata": {
    "accelerator": "GPU",
    "colab": {
      "gpuType": "T4",
      "provenance": [],
      "authorship_tag": "ABX9TyNkL8EjqG82XbCmtIi3POWT",
      "include_colab_link": true
    },
    "kernelspec": {
      "display_name": "Python 3",
      "name": "python3"
    },
    "language_info": {
      "name": "python"
    }
  },
  "nbformat": 4,
  "nbformat_minor": 0
}