{
  "nbformat": 4,
  "nbformat_minor": 0,
  "metadata": {
    "colab": {
      "provenance": [],
      "machine_shape": "hm",
      "gpuType": "A100",
      "authorship_tag": "ABX9TyNz/s3cfegS0a9VqvgkyFTX",
      "include_colab_link": true
    },
    "kernelspec": {
      "name": "python3",
      "display_name": "Python 3"
    },
    "language_info": {
      "name": "python"
    },
    "accelerator": "GPU"
  },
  "cells": [
    {
      "cell_type": "markdown",
      "metadata": {
        "id": "view-in-github",
        "colab_type": "text"
      },
      "source": [
        "<a href=\"https://colab.research.google.com/github/rezaulcmt/Data_Science_Project_Rezaul/blob/main/Diffensive_Distilations.ipynb\" target=\"_parent\"><img src=\"https://colab.research.google.com/assets/colab-badge.svg\" alt=\"Open In Colab\"/></a>"
      ]
    },
    {
      "cell_type": "markdown",
      "source": [
        "#Diffensive Distilations Restnet18\n",
        "\n"
      ],
      "metadata": {
        "id": "tRt_pxebEgJi"
      }
    },
    {
      "cell_type": "code",
      "execution_count": 1,
      "metadata": {
        "colab": {
          "base_uri": "https://localhost:8080/",
          "height": 839
        },
        "id": "98VUueDa7enK",
        "outputId": "ea945075-ba74-4876-8117-9e1bd399f19e"
      },
      "outputs": [
        {
          "output_type": "stream",
          "name": "stdout",
          "text": [
            "Downloading https://www.cs.toronto.edu/~kriz/cifar-100-python.tar.gz to ./data/cifar-100-python.tar.gz\n"
          ]
        },
        {
          "output_type": "stream",
          "name": "stderr",
          "text": [
            "100%|██████████| 169M/169M [00:13<00:00, 12.6MB/s]\n"
          ]
        },
        {
          "output_type": "stream",
          "name": "stdout",
          "text": [
            "Extracting ./data/cifar-100-python.tar.gz to ./data\n",
            "Files already downloaded and verified\n",
            "==> Loading teacher model (ResNet18) ..\n"
          ]
        },
        {
          "output_type": "stream",
          "name": "stderr",
          "text": [
            "/usr/local/lib/python3.10/dist-packages/torchvision/models/_utils.py:208: UserWarning: The parameter 'pretrained' is deprecated since 0.13 and may be removed in the future, please use 'weights' instead.\n",
            "  warnings.warn(\n",
            "/usr/local/lib/python3.10/dist-packages/torchvision/models/_utils.py:223: UserWarning: Arguments other than a weight enum or `None` for 'weights' are deprecated since 0.13 and may be removed in the future. The current behavior is equivalent to passing `weights=None`.\n",
            "  warnings.warn(msg)\n"
          ]
        },
        {
          "output_type": "stream",
          "name": "stdout",
          "text": [
            "==> Training the teacher model..\n",
            "==> Generating soft labels..\n",
            "==> Loading student model (ResNet18) ..\n",
            "==> Training the student model..\n"
          ]
        },
        {
          "output_type": "stream",
          "name": "stderr",
          "text": [
            "/usr/local/lib/python3.10/dist-packages/torch/nn/functional.py:3369: UserWarning: reduction: 'mean' divides the total loss by both the batch size and the support size.'batchmean' divides only by the batch size, and aligns with the KL div math definition.'mean' will be changed to behave the same as 'batchmean' in the next major release.\n",
            "  warnings.warn(\n"
          ]
        },
        {
          "output_type": "stream",
          "name": "stdout",
          "text": [
            "Epoch 1: Loss: 0.000\n",
            "Epoch 2: Loss: 0.000\n",
            "==> Evaluating the student model under adversarial attacks..\n",
            "Accuracy on clean examples: 1.07%\n",
            "Accuracy on FGSM examples: 0.36%\n"
          ]
        },
        {
          "output_type": "display_data",
          "data": {
            "text/plain": [
              "<Figure size 640x480 with 1 Axes>"
            ],
            "image/png": "[encoded data removed]"
          },
          "metadata": {}
        }
      ],
      "source": [
        "import os\n",
        "import torch\n",
        "import torch.nn as nn\n",
        "import torch.optim as optim\n",
        "import torchvision\n",
        "import torchvision.transforms as transforms\n",
        "import numpy as np\n",
        "from torchvision import models\n",
        "import random\n",
        "import matplotlib.pyplot as plt\n",
        "\n",
        "# Reduce memory fragmentation\n",
        "os.environ['PYTORCH_CUDA_ALLOC_CONF'] = 'expandable_segments:True'\n",
        "\n",
        "# Set random seeds for reproducibility\n",
        "torch.manual_seed(0)\n",
        "np.random.seed(0)\n",
        "random.seed(0)\n",
        "if torch.cuda.is_available():\n",
        "    torch.cuda.manual_seed_all(0)\n",
        "    torch.backends.cudnn.deterministic = True\n",
        "    torch.backends.cudnn.benchmark = False\n",
        "\n",
        "# Device configuration\n",
        "device = 'cuda' if torch.cuda.is_available() else 'cpu'\n",
        "\n",
        "# Prepare CIFAR-100 data\n",
        "transform_train = transforms.Compose([\n",
        "    transforms.Resize(112),  # Smaller image size\n",
        "    transforms.ToTensor(),\n",
        "    transforms.Normalize((0.5071, 0.4867, 0.4408), (0.2675, 0.2565, 0.2761)),\n",
        "])\n",
        "\n",
        "transform_test = transforms.Compose([\n",
        "    transforms.Resize(112),\n",
        "    transforms.ToTensor(),\n",
        "    transforms.Normalize((0.5071, 0.4867, 0.4408), (0.2675, 0.2565, 0.2761)),\n",
        "])\n",
        "\n",
        "trainset = torchvision.datasets.CIFAR100(root='./data', train=True, download=True, transform=transform_train)\n",
        "trainloader = torch.utils.data.DataLoader(trainset, batch_size=4, shuffle=True, num_workers=2)\n",
        "\n",
        "testset = torchvision.datasets.CIFAR100(root='./data', train=False, download=True, transform=transform_test)\n",
        "testloader = torch.utils.data.DataLoader(testset, batch_size=4, shuffle=False, num_workers=2)\n",
        "\n",
        "# Load teacher model\n",
        "print('==> Loading teacher model (ResNet18) ..')\n",
        "teacher_model = models.resnet18(pretrained=False)  # No pretrained weights to save memory\n",
        "teacher_model.fc = nn.Linear(512, 100)  # Adjust final layer for CIFAR-100\n",
        "teacher_model = teacher_model.to(device)\n",
        "\n",
        "# Train the teacher model\n",
        "criterion = nn.CrossEntropyLoss()\n",
        "optimizer = optim.SGD(teacher_model.parameters(), lr=0.001, momentum=0.9, weight_decay=5e-4)\n",
        "\n",
        "print(\"==> Training the teacher model..\")\n",
        "for epoch in range(2):  # Reduce epochs for memory constraints\n",
        "    teacher_model.train()\n",
        "    for inputs, targets in trainloader:\n",
        "        inputs, targets = inputs.to(device), targets.to(device)\n",
        "        optimizer.zero_grad()\n",
        "        outputs = teacher_model(inputs)\n",
        "        loss = criterion(outputs, targets)\n",
        "        loss.backward()\n",
        "        optimizer.step()\n",
        "        torch.cuda.empty_cache()  # Clear memory after every batch\n",
        "\n",
        "# Generate soft labels with temperature\n",
        "def generate_soft_labels(model, dataloader, temperature=10):\n",
        "    soft_labels = []\n",
        "    model = model.to('cpu')  # Move model to CPU to save GPU memory\n",
        "    for inputs, targets in dataloader:\n",
        "        inputs, targets = inputs.to('cpu'), targets.to('cpu')\n",
        "        with torch.no_grad():\n",
        "            outputs = model(inputs) / temperature\n",
        "            soft_labels.append((inputs, torch.softmax(outputs, dim=1)))\n",
        "    model = model.to(device)  # Return model to GPU after generating labels\n",
        "    return soft_labels\n",
        "\n",
        "print(\"==> Generating soft labels..\")\n",
        "soft_train_labels = generate_soft_labels(teacher_model, trainloader)\n",
        "\n",
        "# Load student model\n",
        "print('==> Loading student model (ResNet18) ..')\n",
        "student_model = models.resnet18(pretrained=False)  # No pretrained weights to save memory\n",
        "student_model.fc = nn.Linear(512, 100)  # Adjust final layer for CIFAR-100\n",
        "student_model = student_model.to(device)\n",
        "\n",
        "optimizer = optim.SGD(student_model.parameters(), lr=0.001, momentum=0.9, weight_decay=5e-4)\n",
        "\n",
        "# Train the student model with soft labels\n",
        "def train_student(model, soft_labels, temperature=10):\n",
        "    model.train()\n",
        "    for epoch in range(2):  # Reduce epochs for memory constraints\n",
        "        total_loss = 0\n",
        "        for inputs, soft_targets in soft_labels:\n",
        "            inputs, soft_targets = inputs.to(device), soft_targets.to(device)\n",
        "            optimizer.zero_grad()\n",
        "            outputs = model(inputs) / temperature\n",
        "            loss = nn.KLDivLoss()(torch.log_softmax(outputs, dim=1), soft_targets)\n",
        "            loss.backward()\n",
        "            optimizer.step()\n",
        "            total_loss += loss.item()\n",
        "        print(f\"Epoch {epoch + 1}: Loss: {total_loss / len(soft_labels):.3f}\")\n",
        "\n",
        "print(\"==> Training the student model..\")\n",
        "train_student(student_model, soft_train_labels)\n",
        "\n",
        "# FGSM attack function\n",
        "def fgsm_attack(model, x, y, epsilon):\n",
        "    x_adv = x.clone().detach().requires_grad_(True).to(device)\n",
        "    output = model(x_adv)\n",
        "    loss = criterion(output, y)\n",
        "    model.zero_grad()\n",
        "    loss.backward()\n",
        "    x_adv = x_adv + epsilon * x_adv.grad.sign()\n",
        "    x_adv = torch.clamp(x_adv, 0, 1)\n",
        "    return x_adv\n",
        "\n",
        "# Evaluate the student model under adversarial attacks\n",
        "def test_adversarial_defense(model, attack=None, epsilon=None):\n",
        "    correct = 0\n",
        "    total = 0\n",
        "    model.eval()\n",
        "    for inputs, targets in testloader:\n",
        "        inputs, targets = inputs.to(device), targets.to(device)\n",
        "\n",
        "        if attack == 'FGSM':\n",
        "            inputs = fgsm_attack(model, inputs, targets, epsilon)\n",
        "\n",
        "        outputs = model(inputs)\n",
        "        _, predicted = outputs.max(1)\n",
        "        total += targets.size(0)\n",
        "        correct += predicted.eq(targets).sum().item()\n",
        "\n",
        "    acc = 100 * correct / total\n",
        "    print(f'Accuracy on {attack if attack else \"clean\"} examples: {acc:.2f}%')\n",
        "    return acc\n",
        "\n",
        "# Parameters for FGSM attack\n",
        "epsilon_fgsm = 0.1\n",
        "\n",
        "# Test the student model\n",
        "print(\"==> Evaluating the student model under adversarial attacks..\")\n",
        "acc_clean = test_adversarial_defense(student_model)\n",
        "acc_fgsm = test_adversarial_defense(student_model, attack='FGSM', epsilon=epsilon_fgsm)\n",
        "\n",
        "# Plot results\n",
        "attacks = ['Clean', 'FGSM']\n",
        "accuracies = [acc_clean, acc_fgsm]\n",
        "plt.bar(attacks, accuracies)\n",
        "plt.xlabel('Attack')\n",
        "plt.ylabel('Accuracy (%)')\n",
        "plt.title('Defensive Distillation with ResNet18 (CIFAR-100)')\n",
        "plt.show()\n"
      ]
    },
    {
      "cell_type": "markdown",
      "source": [],
      "metadata": {
        "id": "EAT4O2DUCLMV"
      }
    }
  ]
}